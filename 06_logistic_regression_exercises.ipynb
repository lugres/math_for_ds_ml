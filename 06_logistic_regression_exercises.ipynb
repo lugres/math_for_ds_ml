{
 "cells": [
  {
   "cell_type": "markdown",
   "metadata": {},
   "source": [
    "A dataset of three input variables RED, GREEN, and BLUE as well as an output variable LIGHT_OR_DARK_FONT_IND is provided here. It will be used to predict whether a light/ dark font (0/1 respectively) will work for a given background color (specified by RGB values).\n",
    "1. Perform a logistic regression on the preceding data, using three-fold cross- validation and accuracy as your metric.\n",
    "2. Produce a confusion matrix comparing the predictions and actual data.\n",
    "3. Pick a few different background colors (you can use an RGB tool like this one) and see if the logistic regression sensibly chooses a light (0) or dark (1) font for each one.\n",
    "4. Based on the preceding exercises, do you think logistic regression is effective for predicting a light or dark font for a given background color?"
   ]
  },
  {
   "cell_type": "markdown",
   "metadata": {},
   "source": [
    "### 1. Perform a logistic regression on the preceding data, using three-fold cross- validation and accuracy as your metric."
   ]
  },
  {
   "cell_type": "code",
   "execution_count": 1,
   "metadata": {},
   "outputs": [
    {
     "name": "stdout",
     "output_type": "stream",
     "text": [
      "Accuracy Mean: 1.000 (stdev=0.000)\n"
     ]
    }
   ],
   "source": [
    "# Performing a logistic regression with three-fold cross-validation\n",
    "\n",
    "import pandas as pd\n",
    "from sklearn.linear_model import LogisticRegression\n",
    "from sklearn.model_selection import KFold, cross_val_score\n",
    "\n",
    "# Load the data\n",
    "df = pd.read_csv(\"data/light_dark_font_training_set.csv\", delimiter=\",\")\n",
    "\n",
    "X = df.values[:, :-1]\n",
    "Y = df.values[:, -1]\n",
    "\n",
    "# \"random_state\" is the random seed, which we fix to 7\n",
    "kfold = KFold(n_splits=3, random_state=7, shuffle=True)\n",
    "model = LogisticRegression(penalty=None)\n",
    "results = cross_val_score(model, X, Y, cv=kfold)\n",
    "\n",
    "print(\"Accuracy Mean: %.3f (stdev=%.3f)\" % (results.mean(), results.std()))"
   ]
  },
  {
   "cell_type": "markdown",
   "metadata": {},
   "source": [
    "Our model is extremely accurate in terms of predictions."
   ]
  },
  {
   "cell_type": "code",
   "execution_count": 15,
   "metadata": {},
   "outputs": [
    {
     "name": "stdout",
     "output_type": "stream",
     "text": [
      "Cross-validation accuracies: [0.99331849 0.99776786 0.98883929]\n",
      "Mean accuracy: 0.993 (std: 0.004)\n"
     ]
    }
   ],
   "source": [
    "# Updated code - using scaling, pipeline, regularization as well as shuffle and fixed seed\n",
    "# should provide better performance, robustness, and maintainability\n",
    "\n",
    "import pandas as pd\n",
    "from sklearn.linear_model import LogisticRegression\n",
    "from sklearn.model_selection import KFold, cross_val_score\n",
    "from sklearn.preprocessing import StandardScaler\n",
    "from sklearn.pipeline import make_pipeline\n",
    "\n",
    "# Load dataset\n",
    "df = pd.read_csv(\"data/light_dark_font_training_set.csv\", delimiter=\",\")\n",
    "\n",
    "X = df[['RED', 'GREEN', 'BLUE']]\n",
    "y = df['LIGHT_OR_DARK_FONT_IND']\n",
    "\n",
    "# Setup 3-fold cross-validation with shuffle and fixed random seed for reproducibility\n",
    "kfold = KFold(n_splits=3, shuffle=True, random_state=7)\n",
    "\n",
    "# Create pipeline: scaling + logistic regression (with default regularization)\n",
    "pipeline = make_pipeline(\n",
    "    StandardScaler(),\n",
    "    LogisticRegression()\n",
    ")\n",
    "\n",
    "# Perform cross-validation\n",
    "scores = cross_val_score(pipeline, X, y, cv=kfold, scoring='accuracy')\n",
    "\n",
    "print(f\"Cross-validation accuracies: {scores}\")\n",
    "print(f\"Mean accuracy: {scores.mean():.3f} (std: {scores.std():.3f})\")\n"
   ]
  },
  {
   "cell_type": "markdown",
   "metadata": {},
   "source": [
    "### 2. Produce a confusion matrix comparing the predictions and actual data."
   ]
  },
  {
   "cell_type": "code",
   "execution_count": 13,
   "metadata": {},
   "outputs": [
    {
     "name": "stdout",
     "output_type": "stream",
     "text": [
      "Confusion matrix:\n",
      " [[171  10]\n",
      " [  0 263]]\n"
     ]
    }
   ],
   "source": [
    "import pandas as pd\n",
    "from sklearn.linear_model import LogisticRegression\n",
    "from sklearn.metrics import confusion_matrix\n",
    "from sklearn.model_selection import train_test_split\n",
    "\n",
    "# Load the data\n",
    "df = pd.read_csv(\"data/light_dark_font_training_set.csv\", delimiter=\",\")\n",
    "\n",
    "X = df.values[:, :-1]\n",
    "Y = df.values[:, -1]\n",
    "\n",
    "model = LogisticRegression(solver='liblinear')\n",
    "\n",
    "X_train, X_test, Y_train, Y_test = train_test_split(X, Y, test_size=.33)\n",
    "\n",
    "model.fit(X_train, Y_train)\n",
    "prediction = model.predict(X_test)\n",
    "\n",
    "matrix = confusion_matrix(y_true=Y_test, y_pred=prediction) \n",
    "print('Confusion matrix:\\n', matrix)"
   ]
  },
  {
   "cell_type": "markdown",
   "metadata": {},
   "source": [
    "The confusion matrix evaluates accuracy within each category.\\\n",
    "\n",
    "       [[truenegatives falsepositives]\n",
    "        [ falsenegatives truepositives]]\n",
    "The diagonal represents correct predictions, so we want those to be higher"
   ]
  },
  {
   "cell_type": "markdown",
   "metadata": {},
   "source": [
    "Confusion Matrix Breakdown\n",
    "\n",
    "\n",
    "|                       | **Predicted: Light (0)** | **Predicted: Dark (1)** |\n",
    "| --------------------- | ------------------------ | ----------------------- |\n",
    "| **Actual: Light (0)** | 171 (True Negatives)     | 10 (False Positives)    |\n",
    "| **Actual: Dark (1)**  | 0 (False Negatives)      | 263 (True Positives)    |\n"
   ]
  },
  {
   "cell_type": "markdown",
   "metadata": {},
   "source": [
    "Interpretation:\n",
    "\n",
    "✅ High accuracy (97.9%) –  model is performing well overall.\n",
    "\n",
    "✅ Perfect recall for dark font predictions – no dark font cases were missed.\n",
    "\n",
    "⚠️ 10 false positives – the model predicted \"dark font\" when the correct answer was \"light font.\" This may cause unnecessary use of dark text where light would be better (aesthetic or readability issue)."
   ]
  },
  {
   "cell_type": "code",
   "execution_count": 16,
   "metadata": {},
   "outputs": [
    {
     "name": "stdout",
     "output_type": "stream",
     "text": [
      "Confusion matrix:\n",
      " [[177   0]\n",
      " [  1 266]]\n"
     ]
    },
    {
     "data": {
      "image/png": "[encoded data removed]",
      "text/plain": [
       "<Figure size 640x480 with 2 Axes>"
      ]
     },
     "metadata": {},
     "output_type": "display_data"
    }
   ],
   "source": [
    "# polished code with the following improvements:\n",
    "# - Feature Scaling, \n",
    "# - Add labels to confusion matrix for clarity, \n",
    "# - Set a random seed for reproducibility in train/test split\n",
    "# - Use named columns instead of df.values for readability (optional but clearer):\n",
    "\n",
    "import pandas as pd\n",
    "from sklearn.linear_model import LogisticRegression\n",
    "from sklearn.metrics import confusion_matrix, ConfusionMatrixDisplay\n",
    "from sklearn.model_selection import train_test_split\n",
    "from sklearn.preprocessing import StandardScaler\n",
    "import matplotlib.pyplot as plt\n",
    "\n",
    "# Load data\n",
    "df = pd.read_csv(\"data/light_dark_font_training_set.csv\")\n",
    "\n",
    "X = df[['RED', 'GREEN', 'BLUE']]\n",
    "Y = df['LIGHT_OR_DARK_FONT_IND']\n",
    "\n",
    "# Split with fixed random seed for reproducibility\n",
    "X_train, X_test, Y_train, Y_test = train_test_split(X, Y, test_size=0.33, random_state=7)\n",
    "\n",
    "# Scale features\n",
    "scaler = StandardScaler()\n",
    "X_train = scaler.fit_transform(X_train)\n",
    "X_test = scaler.transform(X_test)\n",
    "\n",
    "# Train logistic regression\n",
    "model = LogisticRegression(solver='liblinear')\n",
    "model.fit(X_train, Y_train)\n",
    "\n",
    "# Predict on test set\n",
    "prediction = model.predict(X_test)\n",
    "\n",
    "# Confusion matrix\n",
    "matrix = confusion_matrix(Y_test, prediction)\n",
    "print(\"Confusion matrix:\\n\", matrix)\n",
    "\n",
    "# Plot confusion matrix\n",
    "disp = ConfusionMatrixDisplay(confusion_matrix=matrix, display_labels=model.classes_)\n",
    "disp.plot(cmap=plt.cm.Blues)\n",
    "plt.title(\"Confusion Matrix\")\n",
    "plt.show()\n"
   ]
  },
  {
   "cell_type": "markdown",
   "metadata": {},
   "source": [
    "Even better performance:\n",
    "\n",
    "|                         | **Orig Code** | **Updated Code (Scaling + other)** |\n",
    "| ----------------------- | ------------- | -------------------------------- |\n",
    "| **Accuracy**            | 97.88%        | **99.77%** ✅                     |\n",
    "| **False Positives**     | 10            | **0** ✅                          |\n",
    "| **False Negatives**     | 0             | 1                                |\n",
    "| **Precision (class 1)** | \\~96.3%       | **100%** ✅                       |\n",
    "| **Recall (class 1)**    | 100%          | 99.6%                            |\n",
    "| **F1 Score**            | \\~98.1%       | **99.8%** ✅                      |\n"
   ]
  },
  {
   "cell_type": "markdown",
   "metadata": {},
   "source": [
    "### 3. Pick a few different background colors (you can use an RGB tool like this one) and see if the logistic regression sensibly chooses a light (0) or dark (1) font for each one."
   ]
  },
  {
   "cell_type": "code",
   "execution_count": null,
   "metadata": {},
   "outputs": [
    {
     "name": "stdout",
     "output_type": "stream",
     "text": [
      "R: 0, G:0, B:0 - LIGHT\n",
      "R: 1, G:2, B:3 - LIGHT\n",
      "R: 12, G:5, B:22 - LIGHT\n",
      "R: 234, G:222, B:243 DARK\n",
      "R: 255, G:255, B:255 DARK\n"
     ]
    }
   ],
   "source": [
    "# simple model with interactive shell for testing black (0,0,0) and white (255,255,255) \n",
    "# to see if dark and light fonts respectively are predicted correctly\n",
    "\n",
    "import pandas as pd\n",
    "from sklearn.linear_model import LogisticRegression \n",
    "import numpy as np\n",
    "from sklearn.model_selection import train_test_split\n",
    "\n",
    "# Load the data\n",
    "df = pd.read_csv(\"data/light_dark_font_training_set.csv\", delimiter=\",\")\n",
    "\n",
    "# Extract input variables (all rows, all columns but last column)\n",
    "X = df.values[:, :-1]\n",
    "# Extract output column (all rows, last column)\n",
    "Y = df.values[:, -1]\n",
    "\n",
    "model = LogisticRegression(solver='liblinear')\n",
    "X_train, X_test, Y_train, Y_test = train_test_split(X, Y, test_size=.33)\n",
    "model.fit(X_train, Y_train)\n",
    "prediction = model.predict(X_test)\n",
    "\n",
    "# Test a prediction\n",
    "while True:\n",
    "    n = input(\"Input a color {red},{green},{blue}: \")\n",
    "    if n is ('q' or 'Q'):\n",
    "        break\n",
    "\n",
    "    (r, g, b) = n.split(\",\")\n",
    "    x = model.predict(np.array([[int(r), int(g), int(b)]]))\n",
    "    if model.predict(np.array([[int(r), int(g), int(b)]]))[0] == 0.0:\n",
    "        print(f\"R: {r}, G:{g}, B:{b} - LIGHT\")     \n",
    "    else:\n",
    "        print(f\"R: {r}, G:{g}, B:{b} - DARK\")"
   ]
  },
  {
   "cell_type": "markdown",
   "metadata": {},
   "source": [
    "dark and light fonts are predicted correctly."
   ]
  },
  {
   "cell_type": "markdown",
   "metadata": {},
   "source": [
    "### 4. Based on the preceding exercises, do you think logistic regression is effective for predicting a light or dark font for a given background color?"
   ]
  },
  {
   "cell_type": "markdown",
   "metadata": {},
   "source": [
    "Yes, the logistic regression is very effective at predicting light or dark fonts for a given background color. Not only is the accuracy extremely high, but the confusion matrix has high numbers in the top-right to bottom-left diagonal with lower numbers in the other cells."
   ]
  }
 ],
 "metadata": {
  "kernelspec": {
   "display_name": ".venv",
   "language": "python",
   "name": "python3"
  },
  "language_info": {
   "codemirror_mode": {
    "name": "ipython",
    "version": 3
   },
   "file_extension": ".py",
   "mimetype": "text/x-python",
   "name": "python",
   "nbconvert_exporter": "python",
   "pygments_lexer": "ipython3",
   "version": "3.10.4"
  }
 },
 "nbformat": 4,
 "nbformat_minor": 2
}
