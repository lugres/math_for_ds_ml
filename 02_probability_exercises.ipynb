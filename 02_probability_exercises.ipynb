{
 "cells": [
  {
   "cell_type": "markdown",
   "metadata": {},
   "source": [
    "4. You have 137 passengers booked on a flight from Las Vegas to Dallas. However, it is Las Vegas on a Sunday morning and you estimate each passenger is 40% likely to not show up.\\\n",
    "You are trying to figure out how many seats to overbook so the plane does not fly empty.\\\n",
    "How likely is it at least 50 passengers will not show up?"
   ]
  },
  {
   "cell_type": "markdown",
   "metadata": {},
   "source": [
    "Scipy realisation of Binomial distribution"
   ]
  },
  {
   "cell_type": "code",
   "execution_count": 5,
   "metadata": {},
   "outputs": [
    {
     "name": "stdout",
     "output_type": "stream",
     "text": [
      "0.822095588147425\n"
     ]
    }
   ],
   "source": [
    "from scipy.stats import binom\n",
    "\n",
    "n=137\n",
    "p=.40\n",
    "p_50_or_more_noshows = 0.0 \n",
    "\n",
    "for x in range(50,138):\n",
    "    p_50_or_more_noshows += binom.pmf(x, n, p)\n",
    "    \n",
    "print(p_50_or_more_noshows) # 0.822095588147425"
   ]
  },
  {
   "cell_type": "markdown",
   "metadata": {},
   "source": [
    "Using a binomial distribution from scratch, exploring ranges of passengers"
   ]
  },
  {
   "cell_type": "code",
   "execution_count": 25,
   "metadata": {},
   "outputs": [
    {
     "name": "stdout",
     "output_type": "stream",
     "text": [
      "0 - 0.00000000\n",
      "1 - 0.00000000\n",
      "2 - 0.00000000\n",
      "3 - 0.00000000\n",
      "4 - 0.00000000\n",
      "5 - 0.00000000\n",
      "6 - 0.00000000\n",
      "7 - 0.00000000\n",
      "8 - 0.00000000\n",
      "9 - 0.00000000\n",
      "10 - 0.00000000\n",
      "11 - 0.00000000\n",
      "12 - 0.00000000\n",
      "13 - 0.00000000\n",
      "14 - 0.00000000\n",
      "15 - 0.00000000\n",
      "16 - 0.00000000\n",
      "17 - 0.00000000\n",
      "18 - 0.00000000\n",
      "19 - 0.00000000\n",
      "20 - 0.00000000\n",
      "21 - 0.00000000\n",
      "22 - 0.00000000\n",
      "23 - 0.00000000\n",
      "24 - 0.00000001\n",
      "25 - 0.00000003\n",
      "26 - 0.00000008\n",
      "27 - 0.00000021\n",
      "28 - 0.00000054\n",
      "29 - 0.00000135\n",
      "30 - 0.00000325\n",
      "31 - 0.00000748\n",
      "32 - 0.00001651\n",
      "33 - 0.00003502\n",
      "34 - 0.00007141\n",
      "35 - 0.00014011\n",
      "36 - 0.00026465\n",
      "37 - 0.00048161\n",
      "38 - 0.00084492\n",
      "39 - 0.00142987\n",
      "40 - 0.00233546\n",
      "41 - 0.00368356\n",
      "42 - 0.00561305\n",
      "43 - 0.00826728\n",
      "44 - 0.01177461\n",
      "45 - 0.01622280\n",
      "46 - 0.02163040\n",
      "47 - 0.02792009\n",
      "48 - 0.03490012\n",
      "49 - 0.04226000\n",
      "50 - 0.04958507\n",
      "51 - 0.05639087\n",
      "52 - 0.06217454\n",
      "53 - 0.06647593\n",
      "54 - 0.06893800\n",
      "55 - 0.06935580\n",
      "56 - 0.06770448\n",
      "57 - 0.06414108\n",
      "58 - 0.05898031\n",
      "59 - 0.05264909\n",
      "60 - 0.04562921\n",
      "61 - 0.03839835\n",
      "62 - 0.03137930\n",
      "63 - 0.02490420\n",
      "64 - 0.01919699\n",
      "65 - 0.01437313\n",
      "66 - 0.01045319\n",
      "67 - 0.00738484\n",
      "68 - 0.00506803\n",
      "69 - 0.00337868\n",
      "70 - 0.00218810\n",
      "71 - 0.00137655\n",
      "72 - 0.00084123\n",
      "73 - 0.00049936\n",
      "74 - 0.00028792\n",
      "75 - 0.00016123\n",
      "76 - 0.00008769\n",
      "77 - 0.00004631\n",
      "78 - 0.00002375\n",
      "79 - 0.00001182\n",
      "80 - 0.00000572\n",
      "81 - 0.00000268\n",
      "82 - 0.00000122\n",
      "83 - 0.00000054\n",
      "84 - 0.00000023\n",
      "85 - 0.00000010\n",
      "86 - 0.00000004\n",
      "87 - 0.00000002\n",
      "88 - 0.00000001\n",
      "89 - 0.00000000\n",
      "90 - 0.00000000\n",
      "91 - 0.00000000\n",
      "92 - 0.00000000\n",
      "93 - 0.00000000\n",
      "94 - 0.00000000\n",
      "95 - 0.00000000\n",
      "96 - 0.00000000\n",
      "97 - 0.00000000\n",
      "98 - 0.00000000\n",
      "99 - 0.00000000\n",
      "100 - 0.00000000\n",
      "101 - 0.00000000\n",
      "102 - 0.00000000\n",
      "103 - 0.00000000\n",
      "104 - 0.00000000\n",
      "105 - 0.00000000\n",
      "106 - 0.00000000\n",
      "107 - 0.00000000\n",
      "108 - 0.00000000\n",
      "109 - 0.00000000\n",
      "110 - 0.00000000\n",
      "111 - 0.00000000\n",
      "112 - 0.00000000\n",
      "113 - 0.00000000\n",
      "114 - 0.00000000\n",
      "115 - 0.00000000\n",
      "116 - 0.00000000\n",
      "117 - 0.00000000\n",
      "118 - 0.00000000\n",
      "119 - 0.00000000\n",
      "120 - 0.00000000\n",
      "121 - 0.00000000\n",
      "122 - 0.00000000\n",
      "123 - 0.00000000\n",
      "124 - 0.00000000\n",
      "125 - 0.00000000\n",
      "126 - 0.00000000\n",
      "127 - 0.00000000\n",
      "128 - 0.00000000\n",
      "129 - 0.00000000\n",
      "130 - 0.00000000\n",
      "131 - 0.00000000\n",
      "132 - 0.00000000\n",
      "133 - 0.00000000\n",
      "134 - 0.00000000\n",
      "135 - 0.00000000\n",
      "136 - 0.00000000\n",
      "137 - 0.00000000\n",
      "Probability of passeng. range 71 - 39 that will not show up - 0.9961629797103077\n"
     ]
    }
   ],
   "source": [
    "# Factorials multiply consecutive descending integers down to 1 # EXAMPLE: 5! = 5 * 4 * 3 * 2 * 1\n",
    "def factorial(n: int):\n",
    "    f=1\n",
    "    for i in range(n):\n",
    "        f*=(i+1) \n",
    "    return f\n",
    "\n",
    "# Generates the coefficient needed for the binomial distribution\n",
    "def binomial_coefficient(n: int, k: int):\n",
    "    return factorial(n) / (factorial(k) * factorial(n - k))\n",
    "\n",
    "# Binomial distribution calculates the probability of k events out of n trials \n",
    "# given the p probability of k occurring\n",
    "def binomial_distribution(k: int, n: int, p: float):\n",
    "    return binomial_coefficient(n, k) * (p ** k) * (1.0 - p) ** (n - k)\n",
    "\n",
    "n=137 # number of trials\n",
    "p=0.4 # success probability for each trial\n",
    "\n",
    "noshow_passengers_high_limit = 71\n",
    "noshow_passengers_low_limit = 39\n",
    "count_noshows = 0\n",
    "\n",
    "passeng_num = []\n",
    "passeng_prob = []\n",
    "\n",
    "for k in range(n + 1):\n",
    "    probability = binomial_distribution(k, n, p)\n",
    "    print(\"{0} - {1:.8f}\".format(k, probability))\n",
    "    passeng_num.append(k)\n",
    "    passeng_prob.append(probability)\n",
    "    if noshow_passengers_high_limit >= k >= noshow_passengers_low_limit:\n",
    "        count_noshows += probability\n",
    "\n",
    "print(f'Probability of passeng. range {noshow_passengers_high_limit} - {noshow_passengers_low_limit} \\\n",
    "that will not show up - {count_noshows}')"
   ]
  },
  {
   "cell_type": "code",
   "execution_count": 11,
   "metadata": {},
   "outputs": [],
   "source": [
    "# visualising our distribution with matplotlib\n",
    "import matplotlib.pyplot as plt"
   ]
  },
  {
   "cell_type": "code",
   "execution_count": 23,
   "metadata": {},
   "outputs": [
    {
     "data": {
      "text/plain": [
       "<BarContainer object of 138 artists>"
      ]
     },
     "execution_count": 23,
     "metadata": {},
     "output_type": "execute_result"
    },
    {
     "data": {
      "image/png": "[encoded data removed]",
      "text/plain": [
       "<Figure size 1400x700 with 1 Axes>"
      ]
     },
     "metadata": {},
     "output_type": "display_data"
    }
   ],
   "source": [
    "fig, axes = plt.subplots(1, figsize=(14,7))\n",
    "\n",
    "# position = np.arange(len(passeng_num))\n",
    "\n",
    "# ax.bar(position, data)\n",
    "axes.bar(passeng_num, passeng_prob)\n",
    "\n",
    "# axes.set_xticks(passeng_num)\n",
    "# ax.set_xticklabels(passeng_prob)"
   ]
  },
  {
   "cell_type": "markdown",
   "metadata": {},
   "source": [
    "5. You flipped a coin 19 times and got heads 15 times and tails 4 times.\\\n",
    "Do you think this coin has any good probability of being fair? Why or why not?"
   ]
  },
  {
   "cell_type": "markdown",
   "metadata": {},
   "source": [
    "Using Beta distribution"
   ]
  },
  {
   "cell_type": "code",
   "execution_count": 29,
   "metadata": {},
   "outputs": [
    {
     "name": "stdout",
     "output_type": "stream",
     "text": [
      "Probability between 40% and 60% - 0.03256646286049279\n",
      "Probability above 50% - 0.9962310791015625\n"
     ]
    }
   ],
   "source": [
    "from scipy.stats import beta\n",
    "\n",
    "heads=15\n",
    "tails=4\n",
    "\n",
    "p_40_60 = beta.cdf(.60, heads, tails) - beta.cdf(.40, heads, tails)\n",
    "p_at_least_50 = 1 - beta.cdf(.5, heads, tails)\n",
    "\n",
    "print(f'Probability between 40% and 60% - {p_40_60}')\n",
    "print(f'Probability above 50% - {p_at_least_50}')\n"
   ]
  },
  {
   "cell_type": "markdown",
   "metadata": {},
   "source": [
    "this coin is highly unlikely to be fair as probability is concenrated above 50% margin.\\\n",
    "Underlying success rate (probability) should be 50%\\\n",
    "\\\n",
    "underlying rate of success(or probability) between 40% and 60% is just around 3,2%\\\n",
    "The top of the distribution (top likelihood, or rate of success) is at 0.8235"
   ]
  }
 ],
 "metadata": {
  "kernelspec": {
   "display_name": ".venv",
   "language": "python",
   "name": "python3"
  },
  "language_info": {
   "codemirror_mode": {
    "name": "ipython",
    "version": 3
   },
   "file_extension": ".py",
   "mimetype": "text/x-python",
   "name": "python",
   "nbconvert_exporter": "python",
   "pygments_lexer": "ipython3",
   "version": "3.10.4"
  }
 },
 "nbformat": 4,
 "nbformat_minor": 2
}
