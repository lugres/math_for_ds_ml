{
 "cells": [
  {
   "cell_type": "markdown",
   "metadata": {},
   "source": [
    "You bought a spool of 1.75 mm filament for your 3D printer. You want to measure how close the filament diameter really is to 1.75 mm. You use a caliper tool and sample the diameter five times on the spool:\\\n",
    "1.78, 1.75, 1.72, 1.74, 1.77\\\n",
    "Calculate the mean and standard deviation for this set of values."
   ]
  },
  {
   "cell_type": "code",
   "execution_count": 1,
   "metadata": {},
   "outputs": [
    {
     "name": "stdout",
     "output_type": "stream",
     "text": [
      "1.752\n"
     ]
    }
   ],
   "source": [
    "sample_data = [1.78, 1.75, 1.72, 1.74, 1.77]\n",
    "\n",
    "mean = sum(sample_data) / len(sample_data)\n",
    "print(mean)"
   ]
  },
  {
   "cell_type": "code",
   "execution_count": 4,
   "metadata": {},
   "outputs": [
    {
     "name": "stdout",
     "output_type": "stream",
     "text": [
      "VARIANCE = 0.0005700000000000011\n",
      "STD DEV = 0.023874672772626667\n"
     ]
    }
   ],
   "source": [
    "from math import sqrt\n",
    "\n",
    "def variance(values, is_sample: bool = False):\n",
    "    mean = sum(values) / len(values)\n",
    "    # print(mean)\n",
    "    _variance = sum((v - mean) ** 2 for v in values) /\\\n",
    "        (len(values) - (1 if is_sample else 0))\n",
    "    return _variance\n",
    "\n",
    "def std_dev(values, is_sample: bool = False): \n",
    "    return sqrt(variance(values, is_sample))\n",
    "\n",
    "print(\"VARIANCE = {}\".format(variance(sample_data, is_sample=True)))\n",
    "print(\"STD DEV = {}\".format(std_dev(sample_data, is_sample=True)))"
   ]
  },
  {
   "cell_type": "markdown",
   "metadata": {},
   "source": [
    "A manufacturer says the Z-Phone smart phone has a mean consumer life of 42 months with a standard deviation of 8 months. Assuming a normal distribution, what is the probability a given random Z-Phone will last between 20 and 30 months?"
   ]
  },
  {
   "cell_type": "code",
   "execution_count": 5,
   "metadata": {},
   "outputs": [
    {
     "name": "stdout",
     "output_type": "stream",
     "text": [
      "0.0638274380338035\n"
     ]
    }
   ],
   "source": [
    "# using CDF\n",
    "from scipy.stats import norm\n",
    "\n",
    "mean = 42\n",
    "std_dev = 8\n",
    "\n",
    "prob_20_30 = norm.cdf(30, mean, std_dev) - norm.cdf(20, mean, std_dev)\n",
    "print(prob_20_30)"
   ]
  },
  {
   "cell_type": "markdown",
   "metadata": {},
   "source": [
    "I am skeptical that my 3D printer filament is not 1.75 mm in average diameter as advertised. I sampled 34 measurements with my tool. The sample mean is 1.715588 and the sample standard deviation is 0.029252.\\\n",
    "What is the 99% confidence interval for the mean of my entire spool of filament?"
   ]
  },
  {
   "cell_type": "code",
   "execution_count": 6,
   "metadata": {},
   "outputs": [
    {
     "name": "stdout",
     "output_type": "stream",
     "text": [
      "(np.float64(1.7026658973748656), np.float64(1.7285101026251342))\n"
     ]
    }
   ],
   "source": [
    "from math import sqrt\n",
    "from scipy.stats import norm\n",
    "\n",
    "def critical_z_value(p):\n",
    "    norm_dist = norm(loc=0.0, scale=1.0)\n",
    "    left_tail_area = (1.0 - p) / 2.0\n",
    "    upper_area = 1.0 - ((1.0 - p) / 2.0)\n",
    "    return norm_dist.ppf(left_tail_area), norm_dist.ppf(upper_area)\n",
    "\n",
    "def confidence_interval(p, sample_mean, sample_std, n): \n",
    "    # Sample size must be greater than 30\n",
    "    lower, upper = critical_z_value(p)\n",
    "    lower_ci = lower * (sample_std / sqrt(n))\n",
    "    upper_ci = upper * (sample_std / sqrt(n))\n",
    "\n",
    "    return sample_mean + lower_ci, sample_mean + upper_ci\n",
    "\n",
    "print(confidence_interval(p=.99, sample_mean=1.715588, sample_std=0.029252, n=34))"
   ]
  },
  {
   "cell_type": "markdown",
   "metadata": {},
   "source": [
    "There’s a 99% probability the average filament diameter for a roll is between 1.7026 and 1.7285."
   ]
  },
  {
   "cell_type": "markdown",
   "metadata": {},
   "source": [
    "4. Your marketing department has started a new advertising campaign and wants to know if it affected sales, which in the past averaged $10,345 a day with a standard deviation of $552. The new advertising campaign ran for 45 days and averaged $11,641 in sales.\\\n",
    "Did the campaign affect sales? Why or why not? (Use a two-tailed test for more reliable significance.)"
   ]
  },
  {
   "cell_type": "markdown",
   "metadata": {},
   "source": [
    "H0:population mean = 10_345\\\n",
    "H1:population mean ≠ 10_345"
   ]
  },
  {
   "cell_type": "code",
   "execution_count": 11,
   "metadata": {},
   "outputs": [
    {
     "name": "stdout",
     "output_type": "stream",
     "text": [
      "9263.09988053389\n",
      "11426.90011946611\n"
     ]
    }
   ],
   "source": [
    "# Calculating a range for a statistical significance of 5%\n",
    "from scipy.stats import norm\n",
    "\n",
    "# Past sales $10,345 a day, $552 std dev\n",
    "mean = 10_345\n",
    "std_dev = 552\n",
    "\n",
    "# What x-value has 2.5% of area behind it?\n",
    "x1 = norm.ppf(.025, mean, std_dev)\n",
    "# What x-value has 97.5% of area behind it\n",
    "x2 = norm.ppf(.975, mean, std_dev) \n",
    "\n",
    "print(x1) \n",
    "print(x2) "
   ]
  },
  {
   "cell_type": "code",
   "execution_count": null,
   "metadata": {},
   "outputs": [
    {
     "name": "stdout",
     "output_type": "stream",
     "text": [
      "0.018883335964961386\n"
     ]
    }
   ],
   "source": [
    "# Calculating the two-tailed p-value\n",
    "from scipy.stats import norm\n",
    "\n",
    "new_mean_sales = 11_641\n",
    "\n",
    "# Probability of $9,049 (left side) or less in sales\n",
    "p1 = norm.cdf(mean-(new_mean_sales-mean), mean, std_dev) \n",
    "\n",
    "# Probability of $11,641 or more in sales\n",
    "p2 = 1.0 - norm.cdf(new_mean_sales, mean, std_dev) \n",
    "\n",
    "# P-value of both tails\n",
    "p_value = p1 + p2\n",
    "print(p_value) "
   ]
  },
  {
   "cell_type": "markdown",
   "metadata": {},
   "source": [
    "Our new sales $11,641 is above upper range of statistical significance of 5% ($11,426 upper area).\\\n",
    "Our p-value 1.888% is less than 5% threshold of significance.\\\n",
    "We passed two-tailed test.\\\n",
    "As a result, we can reject null hypothesis H0, meaning our advertising campaing had an impact on sales.\\\n",
    "Reaching $11,641 was not a pure coincidence, it's a statistically significant result of a new advertising campaing."
   ]
  },
  {
   "cell_type": "code",
   "execution_count": null,
   "metadata": {},
   "outputs": [
    {
     "name": "stdout",
     "output_type": "stream",
     "text": [
      "Two-tailed P-value 0.01888333596496139\n",
      "Passes two-tailed test\n"
     ]
    }
   ],
   "source": [
    "# Or even simpler calculation as we have symmetry in our distribution\n",
    "\n",
    "from scipy.stats import norm\n",
    "\n",
    "mean = 10345\n",
    "std_dev = 552\n",
    "\n",
    "p1 = 1.0 - norm.cdf(11641, mean, std_dev)\n",
    "# Take advantage of symmetry\n",
    "p2=p1\n",
    "# P-value of both tails\n",
    "# I could have also just multiplied by 2\n",
    "p_value = p1 + p2\n",
    "print(\"Two-tailed P-value\", p_value) \n",
    "if p_value <= .05:\n",
    "    print(\"Passes two-tailed test\")\n",
    "else:\n",
    "    print(\"Fails two-tailed test\")\n"
   ]
  }
 ],
 "metadata": {
  "kernelspec": {
   "display_name": ".venv",
   "language": "python",
   "name": "python3"
  },
  "language_info": {
   "codemirror_mode": {
    "name": "ipython",
    "version": 3
   },
   "file_extension": ".py",
   "mimetype": "text/x-python",
   "name": "python",
   "nbconvert_exporter": "python",
   "pygments_lexer": "ipython3",
   "version": "3.10.4"
  }
 },
 "nbformat": 4,
 "nbformat_minor": 2
}
