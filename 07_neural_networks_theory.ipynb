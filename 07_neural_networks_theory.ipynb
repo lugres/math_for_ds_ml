{
 "cells": [
  {
   "cell_type": "markdown",
   "metadata": {},
   "source": [
    "### Neural Networks\n",
    "\n",
    "* a neural network is a multilayered regression containing layers of weights, biases, and nonlinear functions that reside between input variables and output variables. \n",
    "* Deep learning is a popular variant of neural networks that utilizes multiple “hidden” (or middle) layers of nodes containing weights and biases. Each node resembles a linear function before being passed to a nonlinear function (called an activation function).\n",
    "* Just like linear regression, optimization techniques like stochastic gradient descent are used to find the optimal weight and bias values to minimize the residuals."
   ]
  },
  {
   "cell_type": "markdown",
   "metadata": {},
   "source": [
    "When to use neural networks vs. linear and logistic regression?\n",
    "\n",
    "* structured data (represented in a table with rows and columns) - Linear regression and logistic regression, as well as gradient boosted trees do excellent predictions.\n",
    "\n",
    "* perceptual problems like image classification, we are trying to find fuzzy correlations between groups of pixels to identify shapes and patterns - neural networks\n",
    "\n",
    "* * The same applies for predicting the next four or five words in a sentence being typed, or deciphering the words being said in an audio clip. "
   ]
  },
  {
   "cell_type": "markdown",
   "metadata": {},
   "source": [
    "A simple neural network with only one hidden layer will be built to illustrate a complex technique by applying it to a simple problem (this problem could be solved by logistic regr or even a formula).\n",
    "\n",
    "We want to predict whether a font should be light (1) or dark (0) for a given color background.\n",
    "* the first layer is simply an input of the three color variables (R,G,B)\n",
    "* the hidden (middle) layer has three nodes, or functions of weights and biases, between the inputs and outputs. \n",
    "* Each node is essentially a linear function with slopes Wi and intercepts Bi being multiplied and summed with input variables Xi; X1 * W1 + X2 * W2 + X3 * W3 + B1.\n",
    "* There is a weight Wi between each input node and hidden node, and another set of weights between each hidden node and output node. Each hidden and output node gets an additional bias Bi added.\n",
    "* the output node repeats the same operation, taking the resulting weighted and summed outputs from the hidden layer and making them inputs into the final layer, where another set of weights and biases will be applied. W10 * (X1 * W1 + X2 * W2 + X3 * W3 + B1) + W11 * ... + B4\n"
   ]
  },
  {
   "cell_type": "markdown",
   "metadata": {},
   "source": [
    "In a nutshell, this is a regression just like linear or logistic regression, but with many more parameters to solve for.\n",
    "* The weight and bias values are analogous to the m and b, or β1 and β0, parameters in a linear regression.\n",
    "* We do use stochastic gradient descent and minimize loss just like linear regression, but we need an additional tool called backpropagation to untangle the weight Wi and bias Bi values and calculate their partial derivatives using the chain rule.\n",
    "* Before doing this, we need to establish activation functions"
   ]
  },
  {
   "cell_type": "markdown",
   "metadata": {},
   "source": [
    "An activation function is a nonlinear function that transforms or compresses the weighted and summed values in a node, helping the neural network separate the data effectively so it can be classified.\n",
    "* If you do not have the activation functions, your hidden layers will not be productive and will perform no better than a linear regression.\n",
    "* The ReLU (rectified linear unit) activation function will zero out any negative outputs from the hidden nodes. Usually used within hidden layers. Pros - speed and mitigation of the vanishing gradient problem.\n",
    "* logistic activation function, which is a simple sigmoid curve. Needed to turn hidden layer's result into smth interpretable. Used for output layer.\n"
   ]
  },
  {
   "cell_type": "markdown",
   "metadata": {},
   "source": [
    "* When we pass a node’s weighted, biased, and summed value through an activation function, we now call that an activated output, meaning it has been filtered through the activation function. \n",
    "* When the activated output leaves the hidden layer, the signal is ready to be fed into the next layer. The activation function could have strengthened, weakened, or left the signal as is (brain analogy)."
   ]
  },
  {
   "cell_type": "markdown",
   "metadata": {},
   "source": [
    "#### Forward Propagation\n",
    "* a simple feed-forward neural network that is not optimized yet. \n",
    "* Feed forward means we are simply inputting a color into the neural network and seeing what it outputs. \n",
    "* The weights and biases are randomly initialized and will be optimized later in this chapter, so do not expect a useful output yet."
   ]
  },
  {
   "cell_type": "code",
   "execution_count": 1,
   "metadata": {},
   "outputs": [
    {
     "name": "stdout",
     "output_type": "stream",
     "text": [
      "ACCURACY:  0.6035634743875272\n"
     ]
    }
   ],
   "source": [
    "# A simple forward propagation network with random weight and bias values\n",
    "# a forward-pass-only mockup of a neural network — no backpropagation or weight updates.\n",
    "\n",
    "import numpy as np\n",
    "import pandas as pd\n",
    "from sklearn.model_selection import train_test_split\n",
    "\n",
    "all_data = pd.read_csv(\"data/light_dark_font_training_set.csv\")\n",
    "\n",
    "# Extract the input columns, scale down by 255\n",
    "all_inputs = (all_data.iloc[:, 0:3].values / 255.0)\n",
    "all_outputs = all_data.iloc[:, -1].values\n",
    "\n",
    "# Split train and test data sets\n",
    "X_train, X_test, Y_train, Y_test = train_test_split(all_inputs, all_outputs,\n",
    "    test_size=1/3)\n",
    "n = X_train.shape[0] # number of training records\n",
    "\n",
    "# Build neural network with weights and biases with random initialization\n",
    "w_hidden = np.random.rand(3, 3)\n",
    "w_output = np.random.rand(1, 3)\n",
    "b_hidden = np.random.rand(3, 1)\n",
    "b_output = np.random.rand(1, 1)\n",
    "\n",
    "# Activation functions\n",
    "relu = lambda x: np.maximum(x, 0) \n",
    "logistic = lambda x: 1 / (1 + np.exp(-x))\n",
    "\n",
    "# Runs inputs through the neural network to get predicted outputs\n",
    "def forward_prop(X):\n",
    "    Z1 = w_hidden @ X + b_hidden \n",
    "    A1 = relu(Z1)\n",
    "    Z2 = w_output @ A1 + b_output \n",
    "    A2 = logistic(Z2)\n",
    "    return Z1, A1, Z2, A2\n",
    "\n",
    "# Calculate accuracy\n",
    "test_predictions = forward_prop(X_test.transpose())[3] # grab only output layer, A2 \n",
    "test_comparisons = np.equal((test_predictions >= .5).flatten().astype(int), Y_test) \n",
    "accuracy = sum(test_comparisons.astype(int) / X_test.shape[0]) # better - np.mean(test_comparisons)\n",
    "print(\"ACCURACY: \", accuracy)"
   ]
  },
  {
   "cell_type": "code",
   "execution_count": 88,
   "metadata": {},
   "outputs": [
    {
     "data": {
      "text/plain": [
       "np.float64(0.6734234193061761)"
      ]
     },
     "execution_count": 88,
     "metadata": {},
     "output_type": "execute_result"
    }
   ],
   "source": [
    "test_predictions.min()"
   ]
  },
  {
   "cell_type": "markdown",
   "metadata": {},
   "source": [
    "This mock model always predicts class 1 (or “True”) no matter the input because of:\n",
    "* 1) I have only forward propagation in the model; \n",
    "* 2) my weights and biases are just random values, without any optimization.\n",
    "\n",
    "Root cause: random positive-only weights → always positive logits → sigmoid > 0.5."
   ]
  },
  {
   "cell_type": "code",
   "execution_count": 97,
   "metadata": {},
   "outputs": [
    {
     "data": {
      "text/plain": [
       "array([[0.90293455, 0.66193028, 0.89104147],\n",
       "       [0.21253687, 0.0306862 , 0.19802957],\n",
       "       [0.38013646, 0.84877953, 0.05240967]])"
      ]
     },
     "execution_count": 97,
     "metadata": {},
     "output_type": "execute_result"
    }
   ],
   "source": [
    "w_hidden"
   ]
  },
  {
   "cell_type": "code",
   "execution_count": 111,
   "metadata": {},
   "outputs": [
    {
     "data": {
      "text/plain": [
       "array([[1.        , 0.94117647, 0.96078431],\n",
       "       [1.        , 0.9372549 , 0.85882353],\n",
       "       [0.30196078, 0.30196078, 0.30196078],\n",
       "       ...,\n",
       "       [0.6       , 0.6       , 0.6       ],\n",
       "       [0.82352941, 0.70588235, 0.54901961],\n",
       "       [0.54509804, 0.45882353, 0.        ]], shape=(449, 3))"
      ]
     },
     "execution_count": 111,
     "metadata": {},
     "output_type": "execute_result"
    }
   ],
   "source": [
    "X_test"
   ]
  },
  {
   "cell_type": "code",
   "execution_count": 99,
   "metadata": {},
   "outputs": [
    {
     "data": {
      "text/plain": [
       "array([[1.        , 1.        , 0.30196078, ..., 0.6       , 0.82352941,\n",
       "        0.54509804],\n",
       "       [0.94117647, 0.9372549 , 0.30196078, ..., 0.6       , 0.70588235,\n",
       "        0.45882353],\n",
       "       [0.96078431, 0.85882353, 0.30196078, ..., 0.6       , 0.54901961,\n",
       "        0.        ]], shape=(3, 449))"
      ]
     },
     "execution_count": 99,
     "metadata": {},
     "output_type": "execute_result"
    }
   ],
   "source": [
    "X_test.T"
   ]
  },
  {
   "cell_type": "code",
   "execution_count": 113,
   "metadata": {},
   "outputs": [
    {
     "data": {
      "text/plain": [
       "array([[2.38202642, 2.28857932, 0.74158739, ..., 1.47354378, 1.7000373 ,\n",
       "        0.79589704],\n",
       "       [0.43168171, 0.41137012, 0.13324099, ..., 0.26475159, 0.30541333,\n",
       "        0.12993299],\n",
       "       [1.22934218, 1.2206699 , 0.3869101 , ..., 0.7687954 , 0.94096599,\n",
       "        0.59665166]], shape=(3, 449))"
      ]
     },
     "execution_count": 113,
     "metadata": {},
     "output_type": "execute_result"
    }
   ],
   "source": [
    "w_hidden @ X_test.T"
   ]
  },
  {
   "cell_type": "code",
   "execution_count": 114,
   "metadata": {},
   "outputs": [
    {
     "data": {
      "text/plain": [
       "array([1.        , 0.94117647, 0.96078431])"
      ]
     },
     "execution_count": 114,
     "metadata": {},
     "output_type": "execute_result"
    }
   ],
   "source": [
    "X_test.T[:, 0]"
   ]
  },
  {
   "cell_type": "code",
   "execution_count": 116,
   "metadata": {},
   "outputs": [
    {
     "data": {
      "text/plain": [
       "array([2.38202642, 0.43168171, 1.22934218])"
      ]
     },
     "execution_count": 116,
     "metadata": {},
     "output_type": "execute_result"
    }
   ],
   "source": [
    "w_hidden.dot(X_test.T[:, 0])"
   ]
  },
  {
   "cell_type": "code",
   "execution_count": 117,
   "metadata": {},
   "outputs": [
    {
     "data": {
      "text/plain": [
       "array([0.90293455, 0.66193028, 0.89104147])"
      ]
     },
     "execution_count": 117,
     "metadata": {},
     "output_type": "execute_result"
    }
   ],
   "source": [
    "w_hidden[0,:]"
   ]
  },
  {
   "cell_type": "code",
   "execution_count": 118,
   "metadata": {},
   "outputs": [
    {
     "data": {
      "text/plain": [
       "np.float64(2.382026416691198)"
      ]
     },
     "execution_count": 118,
     "metadata": {},
     "output_type": "execute_result"
    }
   ],
   "source": [
    "w_hidden[0,:] @ X_test.T[:, 0]"
   ]
  },
  {
   "cell_type": "code",
   "execution_count": 110,
   "metadata": {},
   "outputs": [
    {
     "data": {
      "text/plain": [
       "(array([[0.03404623],\n",
       "        [0.60586513],\n",
       "        [0.62125964]]),\n",
       " (3, 1))"
      ]
     },
     "execution_count": 110,
     "metadata": {},
     "output_type": "execute_result"
    }
   ],
   "source": [
    "b_hidden, b_hidden.shape"
   ]
  },
  {
   "cell_type": "code",
   "execution_count": 106,
   "metadata": {},
   "outputs": [
    {
     "data": {
      "text/plain": [
       "array([[2.41607265, 2.32262556, 0.77563362, ..., 1.50759001, 1.73408353,\n",
       "        0.82994327],\n",
       "       [1.03754683, 1.01723525, 0.73910612, ..., 0.87061671, 0.91127846,\n",
       "        0.73579811],\n",
       "       [1.85060182, 1.84192954, 1.00816975, ..., 1.39005504, 1.56222563,\n",
       "        1.2179113 ]], shape=(3, 449))"
      ]
     },
     "execution_count": 106,
     "metadata": {},
     "output_type": "execute_result"
    }
   ],
   "source": [
    "(w_hidden @ X_test.T + b_hidden)"
   ]
  },
  {
   "cell_type": "code",
   "execution_count": 119,
   "metadata": {},
   "outputs": [
    {
     "data": {
      "text/plain": [
       "(1, 449)"
      ]
     },
     "execution_count": 119,
     "metadata": {},
     "output_type": "execute_result"
    }
   ],
   "source": [
    "test_predictions.shape"
   ]
  },
  {
   "cell_type": "markdown",
   "metadata": {},
   "source": [
    "#### Backpropagation\n",
    "* use the chain rule to find partial derivatives with respect to the weights Wi and biases Bi\n",
    "* we need to untangle an onion-like nesting (applying sets of weights & biases at each layer), starting with the output layer\n",
    "* our cost function for a single prediction is C = (A2 − Y) ** 2\n",
    "* peeling back, A2 = sigmoid (Z2), Z2 = W2 * A1 + B2, and so on\n",
    "* We need to find the weights and biases contained in the W1, B1, W2, and B2 matrices and vectors that will minimize our loss.\n",
    "* By nudging their slopes, we can change the weights and biases that have the most impact in minimizing loss. Each nudge will propagate to the loss function, thus chain rule is usefull."
   ]
  },
  {
   "cell_type": "markdown",
   "metadata": {},
   "source": [
    "Let’s focus on finding the relationship on a weight from the output layer W2 and the cost function C. A change in the weight W2 results in a change to the unactivated output Z2. That then changes the activated output A2, which changes the cost function C.\n",
    "\n",
    "derivative of C with respect to W2 as this (how much a change in a weight in W2 affects the cost function C):\n",
    "* dC/dW2 = dZ2/dW2 * dA2/dZ2 * dC/dA2"
   ]
  },
  {
   "cell_type": "code",
   "execution_count": 122,
   "metadata": {},
   "outputs": [
    {
     "name": "stdout",
     "output_type": "stream",
     "text": [
      "2*A2 - 2*Y\n"
     ]
    }
   ],
   "source": [
    "# Calculating the derivative of the cost function with respect to A2 \n",
    "\n",
    "from sympy import *\n",
    "\n",
    "A2, Y = symbols('A2 Y') \n",
    "C=(A2-Y)**2\n",
    "dC_dA2 = diff(C, A2) \n",
    "print(dC_dA2) # 2*A2 - 2*Y"
   ]
  },
  {
   "cell_type": "code",
   "execution_count": 123,
   "metadata": {},
   "outputs": [
    {
     "name": "stdout",
     "output_type": "stream",
     "text": [
      "exp(-Z2)/(1 + exp(-Z2))**2\n"
     ]
    }
   ],
   "source": [
    "# Finding the derivative of A2 with respect to Z2 \n",
    "\n",
    "from sympy import *\n",
    "\n",
    "Z2 = symbols('Z2')\n",
    "\n",
    "logistic = lambda x: 1 / (1 + exp(-x))\n",
    "\n",
    "A2 = logistic(Z2)\n",
    "dA2_dZ2 = diff(A2, Z2)\n",
    "print(dA2_dZ2) # exp(-Z2)/(1 + exp(-Z2))**2"
   ]
  },
  {
   "cell_type": "code",
   "execution_count": 124,
   "metadata": {},
   "outputs": [
    {
     "name": "stdout",
     "output_type": "stream",
     "text": [
      "A1\n"
     ]
    }
   ],
   "source": [
    "# Derivative of Z2 with respect to W2 \n",
    "\n",
    "from sympy import *\n",
    "\n",
    "A1, W2, B2 = symbols('A1, W2, B2')\n",
    "Z2=A1*W2+B2 \n",
    "dZ2_dW2 = diff(Z2, W2) \n",
    "print(dZ2_dW2) # A1"
   ]
  },
  {
   "cell_type": "markdown",
   "metadata": {},
   "source": [
    "Now we need all partial derivatives:"
   ]
  },
  {
   "cell_type": "code",
   "execution_count": 125,
   "metadata": {},
   "outputs": [
    {
     "name": "stdout",
     "output_type": "stream",
     "text": [
      "dC_dA2 =  2*A2 - 2*Y\n",
      "dA2_dZ2 =  exp(-Z2)/(1 + exp(-Z2))**2\n",
      "dZ2_dA1 =  W2\n",
      "dZ2_dW2 =  A1\n",
      "dZ2_dB2 =  1\n",
      "dA1_dZ1 =  Z1 > 0\n",
      "dZ1_dW1 =  X\n",
      "dZ1_dB1 =  1\n"
     ]
    }
   ],
   "source": [
    "# Calculating all the partial derivatives we will need for our neural network\n",
    "\n",
    "from sympy import * \n",
    "\n",
    "W1,W2,B1,B2,A1,A2,Z1,Z2,X,Y=\\\n",
    "    symbols('W1 W2 B1 B2 A1 A2 Z1 Z2 X Y')\n",
    "\n",
    "# Calculate derivative of cost function with respect to A2\n",
    "C=(A2-Y)**2\n",
    "dC_dA2 = diff(C, A2)\n",
    "print(\"dC_dA2 = \", dC_dA2) # 2*A2 - 2*Y\n",
    "\n",
    "# Calculate derivative of A2 with respect to Z2\n",
    "logistic = lambda x: 1 / (1 + exp(-x))\n",
    "_A2 = logistic(Z2)\n",
    "dA2_dZ2 = diff(_A2, Z2)\n",
    "print(\"dA2_dZ2 = \", dA2_dZ2) # exp(-Z2)/(1 + exp(-Z2))**2\n",
    "\n",
    "# Calculate derivative of Z2 with respect to A1\n",
    "_Z2=A1*W2+B2\n",
    "dZ2_dA1 = diff(_Z2, A1) \n",
    "print(\"dZ2_dA1 = \", dZ2_dA1) # W2\n",
    "\n",
    "# Calculate derivative of Z2 with respect to W2\n",
    "dZ2_dW2 = diff(_Z2, W2) \n",
    "print(\"dZ2_dW2 = \", dZ2_dW2) # A1\n",
    "\n",
    "# Calculate derivative of Z2 with respect to B2\n",
    "dZ2_dB2 = diff(_Z2, B2) \n",
    "print(\"dZ2_dB2 = \", dZ2_dB2) # 1\n",
    "\n",
    "# Calculate derivative of A1 with respect to Z1\n",
    "relu = lambda x: Max(x, 0) \n",
    "_A1 = relu(Z1)\n",
    "\n",
    "d_relu = lambda x: x > 0 # Slope is 1 if positive, 0 if negative \n",
    "dA1_dZ1 = d_relu(Z1)\n",
    "print(\"dA1_dZ1 = \", dA1_dZ1) # Z1 > 0\n",
    "\n",
    "# Calculate derivative of Z1 with respect to W1\n",
    "_Z1=X*W1+B1\n",
    "dZ1_dW1 = diff(_Z1, W1) \n",
    "print(\"dZ1_dW1 = \", dZ1_dW1) # X\n",
    "\n",
    "# Calculate derivative of Z1 with respect to B1\n",
    "dZ1_dB1 = diff(_Z1, B1) \n",
    "print(\"dZ1_dB1 = \", dZ1_dB1) # 1"
   ]
  },
  {
   "cell_type": "markdown",
   "metadata": {},
   "source": [
    "These partial derivatives can be chained together to create new partial derivatives with respect to the weights and biases. We will use these chained gradients to calculate the slope for the cost function C with respect to W1, B1, W2, and B2."
   ]
  },
  {
   "cell_type": "markdown",
   "metadata": {},
   "source": [
    "#### Stochastic Gradient Descent\n",
    "* keeping things simple: sampling only one training record on every iteration to avoid excessive linear algebra and calculus"
   ]
  },
  {
   "cell_type": "code",
   "execution_count": null,
   "metadata": {},
   "outputs": [
    {
     "name": "stdout",
     "output_type": "stream",
     "text": [
      "ACCURACY:  0.9910913140311729\n"
     ]
    }
   ],
   "source": [
    "# Implementing a neural network using stochastic gradient descent\n",
    "\n",
    "import numpy as np\n",
    "import pandas as pd\n",
    "from sklearn.model_selection import train_test_split\n",
    "\n",
    "all_data = pd.read_csv(\"data/light_dark_font_training_set.csv\")\n",
    "\n",
    "# Learning rate controls how slowly we approach a solution\n",
    "# Make it too small, it will take too long to run.\n",
    "# Make it too big, it will likely overshoot and miss the solution. \n",
    "L=0.05\n",
    "\n",
    "# Extract the input columns, scale down by 255\n",
    "all_inputs = (all_data.iloc[:, 0:3].values / 255.0)\n",
    "all_outputs = all_data.iloc[:, -1].values\n",
    "\n",
    "# Split train and test data sets\n",
    "X_train, X_test, Y_train, Y_test = train_test_split(all_inputs, all_outputs,\n",
    "    test_size=1 / 3)\n",
    "n = X_train.shape[0]\n",
    "\n",
    "# Build neural network with weights and biases with random initialization\n",
    "w_hidden = np.random.rand(3, 3)\n",
    "w_output = np.random.rand(1, 3)\n",
    "b_hidden = np.random.rand(3, 1)\n",
    "b_output = np.random.rand(1, 1)\n",
    "\n",
    "# Activation functions\n",
    "relu = lambda x: np.maximum(x, 0) \n",
    "logistic = lambda x: 1 / (1 + np.exp(-x))\n",
    "\n",
    "# Runs inputs through the neural network to get predicted outputs\n",
    "def forward_prop(X):\n",
    "    Z1 = w_hidden @ X + b_hidden \n",
    "    A1 = relu(Z1)\n",
    "    Z2 = w_output @ A1 + b_output \n",
    "    A2 = logistic(Z2)\n",
    "    return Z1, A1, Z2, A2\n",
    "\n",
    "\n",
    "# Derivatives of Activation functions\n",
    "d_relu = lambda x: x > 0\n",
    "d_logistic = lambda x: np.exp(-x) / (1 + np.exp(-x)) ** 2\n",
    "\n",
    "# returns slopes for weights and biases # using chain rule\n",
    "def backward_prop(Z1, A1, Z2, A2, X, Y):\n",
    "    dC_dA2 = 2 * A2 - 2 * Y \n",
    "    dA2_dZ2 = d_logistic(Z2) \n",
    "    dZ2_dA1 = w_output \n",
    "    dZ2_dW2 = A1\n",
    "    dZ2_dB2 = 1\n",
    "    dA1_dZ1 = d_relu(Z1)\n",
    "    dZ1_dW1 = X\n",
    "    dZ1_dB1 = 1\n",
    "\n",
    "    dC_dW2 = dC_dA2 @ dA2_dZ2 @ dZ2_dW2.T \n",
    "    dC_dB2 = dC_dA2 @ dA2_dZ2 * dZ2_dB2 \n",
    "    dC_dA1 = dC_dA2 @ dA2_dZ2 @ dZ2_dA1 \n",
    "    dC_dW1 = dC_dA1 @ dA1_dZ1 @ dZ1_dW1.T \n",
    "    dC_dB1 = dC_dA1 @ dA1_dZ1 * dZ1_dB1 \n",
    "    \n",
    "    return dC_dW1, dC_dB1, dC_dW2, dC_dB2\n",
    "\n",
    "# Execute gradient descent\n",
    "for i in range(100_000):\n",
    "    \n",
    "    # randomly select one of the training data \n",
    "    idx = np.random.choice(n, 1, replace=False)\n",
    "\n",
    "    X_sample = X_train[idx].transpose()\n",
    "    Y_sample = Y_train[idx]\n",
    "    \n",
    "    # run randomly selected training data through neural network\n",
    "    Z1, A1, Z2, A2 = forward_prop(X_sample)\n",
    "    \n",
    "    # distribute error through backpropagation\n",
    "    # and return slopes for weights and biases\n",
    "    dW1, dB1, dW2, dB2 = backward_prop(Z1, A1, Z2, A2, X_sample, Y_sample)\n",
    "    \n",
    "    # update weights and biases\n",
    "    w_hidden -= L * dW1\n",
    "    b_hidden -= L * dB1\n",
    "    w_output -= L * dW2\n",
    "    b_output -= L * dB2\n",
    "\n",
    "# Calculate accuracy\n",
    "test_predictions = forward_prop(X_test.transpose())[3] # grab only output layer, A2 \n",
    "test_comparisons = np.equal((test_predictions >= .5).flatten().astype(int), Y_test) \n",
    "accuracy = sum(test_comparisons.astype(int) / X_test.shape[0]) # better - np.mean(test_comparisons)\n",
    "print(\"ACCURACY: \", accuracy)"
   ]
  },
  {
   "cell_type": "markdown",
   "metadata": {},
   "source": [
    "* The backward_prop() function is key here, implementing the chain rule to take the error in the output node (the squared residual), and then divide it up and distribute it backward to the output and hidden weights/biases to get the slopes with respect to each weight/bias. \n",
    "* We then take those slopes and nudge the weights/biases in the for loop, respectively, multiplying with the learning rate L"
   ]
  },
  {
   "cell_type": "code",
   "execution_count": 128,
   "metadata": {},
   "outputs": [
    {
     "data": {
      "text/plain": [
       "(array([[0.80392157, 0.14901961, 0.14901961]]), array([0]), array([141]))"
      ]
     },
     "execution_count": 128,
     "metadata": {},
     "output_type": "execute_result"
    }
   ],
   "source": [
    "X_train[idx], Y_train[idx], idx"
   ]
  },
  {
   "cell_type": "code",
   "execution_count": 136,
   "metadata": {},
   "outputs": [
    {
     "name": "stdout",
     "output_type": "stream",
     "text": [
      "R: 0,\t\tG: 0,\t\tB: 0,\t\tFont color: LIGHT\n",
      "R: 255,\t\tG: 15,\t\tB: 234,\t\tFont color: LIGHT\n",
      "R: 255,\t\tG: 255,\t\tB: 255,\t\tFont color: DARK\n",
      "R: 12,\t\tG: 2,\t\tB: 34,\t\tFont color: LIGHT\n",
      "R: 234,\t\tG: 222,\t\tB: 215,\t\tFont color: DARK\n"
     ]
    }
   ],
   "source": [
    "# Adding an interactive shell to our neural network\n",
    "\n",
    "# Interact and test with new colors\n",
    "def predict_probability(r, g, b):\n",
    "    X = np.array([[r, g, b]]).transpose() / 255 \n",
    "    Z1, A1, Z2, A2 = forward_prop(X)\n",
    "    return A2\n",
    "\n",
    "def predict_font_shade(r, g, b):\n",
    "    output_values = predict_probability(r, g, b) \n",
    "    if output_values > .5:\n",
    "        return \"DARK\" \n",
    "    else:\n",
    "        return \"LIGHT\"\n",
    "\n",
    "while True:\n",
    "    col_input = input(\"Predict light or dark font. Input values R,G,B: \") \n",
    "    if col_input is ('q' or 'Q'):\n",
    "        break\n",
    "    (r, g, b) = col_input.split(\",\")\n",
    "    print(f'R: {int(r)},\\t\\tG: {int(g)},\\t\\tB: {int(b)},\\t\\tFont color: {predict_font_shade(int(r), int(g), int(b))}')"
   ]
  },
  {
   "cell_type": "markdown",
   "metadata": {},
   "source": [
    "#### Using scikit-learn\n",
    "* for educational purpose only, use PyTorch or TensorFlow for industrial use cases"
   ]
  },
  {
   "cell_type": "code",
   "execution_count": 145,
   "metadata": {},
   "outputs": [
    {
     "name": "stdout",
     "output_type": "stream",
     "text": [
      "Weights\n",
      " [array([[ 3.50477148, -0.41939281, -0.01780484],\n",
      "       [ 7.3587596 , -0.17482206, -0.46615621],\n",
      "       [ 1.23401016, -0.03722839, -0.75782376]]), array([[ 9.69149919],\n",
      "       [ 0.59578572],\n",
      "       [-0.76793036]])]\n",
      "Biases\n",
      " [array([-5.39233101, -0.53656655, -0.08593784]), array([-6.00992455])]\n",
      "\n",
      "Training set score: 0.996652\n",
      "Test set score: 0.993318\n"
     ]
    }
   ],
   "source": [
    "# Using scikit-learn neural network classifier\n",
    "\n",
    "import pandas as pd\n",
    "from sklearn.model_selection import train_test_split \n",
    "from sklearn.neural_network import MLPClassifier\n",
    "\n",
    "# load data\n",
    "df = pd.read_csv('data/light_dark_font_training_set.csv', delimiter=\",\")\n",
    "\n",
    "# Extract input variables (all rows, all columns but last column) \n",
    "# Note we should do some linear scaling here\n",
    "X = (df.values[:, :-1] / 255.0)\n",
    "\n",
    "# Extract output column (all rows, last column)\n",
    "Y = df.values[:, -1]\n",
    "\n",
    "# Separate training and testing data\n",
    "X_train, X_test, Y_train, Y_test = train_test_split(X, Y, test_size=1/3)\n",
    "\n",
    "nn = MLPClassifier(solver='sgd',\n",
    "                   hidden_layer_sizes=(3, ),\n",
    "                   activation='relu',\n",
    "                   max_iter=100_000,\n",
    "                   learning_rate_init=.05)\n",
    "\n",
    "nn.fit(X_train, Y_train)\n",
    "\n",
    "# Print weights and biases\n",
    "print('Weights\\n', nn.coefs_ ) \n",
    "print('Biases\\n', nn.intercepts_)\n",
    "print(\"\\nTraining set score: %f\" % nn.score(X_train, Y_train)) \n",
    "print(\"Test set score: %f\" % nn.score(X_test, Y_test))"
   ]
  },
  {
   "cell_type": "markdown",
   "metadata": {},
   "source": [
    "#### MNIST Classifier Using scikit-learn"
   ]
  },
  {
   "cell_type": "code",
   "execution_count": null,
   "metadata": {},
   "outputs": [
    {
     "name": "stdout",
     "output_type": "stream",
     "text": [
      "      class\n",
      "       size\n",
      "class      \n",
      "0      6903\n",
      "1      7877\n",
      "2      6990\n",
      "3      7141\n",
      "4      6824\n",
      "5      6313\n",
      "6      6876\n",
      "7      7293\n",
      "8      6825\n",
      "9      6958\n",
      "Training set score: 0.999979\n",
      "Test set score: 0.976926\n"
     ]
    },
    {
     "data": {
      "image/png": "[encoded data removed]",
      "text/plain": [
       "<Figure size 640x480 with 16 Axes>"
      ]
     },
     "metadata": {},
     "output_type": "display_data"
    }
   ],
   "source": [
    "# A handwritten digit classifier neural network in scikit-learn\n",
    "\n",
    "import numpy as np\n",
    "import pandas as pd\n",
    "from sklearn.model_selection import train_test_split \n",
    "from sklearn.neural_network import MLPClassifier\n",
    "\n",
    "# load data\n",
    "df = pd.read_csv('data/mnist_784.zip', compression='zip', delimiter=\",\")\n",
    "\n",
    "# Extract input variables (all rows, all columns but last column) \n",
    "# Note we should do some linear scaling here\n",
    "X = (df.values[:, :-1] / 255.0)\n",
    "\n",
    "# Extract output column (all rows, last column)\n",
    "Y = df.values[:, -1]\n",
    "\n",
    "# Get a count of each group to ensure samples are equitably balanced\n",
    "print(df.groupby([\"class\"]).agg({\"class\" : [np.size]})) \n",
    "\n",
    "# Separate training and testing data\n",
    "# Note that I use the 'stratify' parameter to ensure\n",
    "# each class is proportionally represented in both sets\n",
    "X_train, X_test, Y_train, Y_test = train_test_split(X, Y,\n",
    "    test_size=.33, random_state=10, stratify=Y)\n",
    "\n",
    "nn = MLPClassifier(solver='sgd',\n",
    "                   hidden_layer_sizes=(100, ),\n",
    "                   activation='logistic',\n",
    "                   max_iter=480,\n",
    "                   learning_rate_init=.1)\n",
    "\n",
    "nn.fit(X_train, Y_train)\n",
    "\n",
    "print(\"Training set score: %f\" % nn.score(X_train, Y_train))\n",
    "print(\"Test set score: %f\" % nn.score(X_test, Y_test))\n",
    "\n",
    "# Display heat map for the first 16 neurons (shows the 784 weights for each)\n",
    "# features each neuron has \"learned\" to detect.\n",
    "import matplotlib.pyplot as plt \n",
    "fig, axes = plt.subplots(4, 4)\n",
    "\n",
    "# use global min / max to ensure all weights are shown on the same scale\n",
    "vmin, vmax = nn.coefs_[0].min(), nn.coefs_[0].max() \n",
    "for coef, ax in zip(nn.coefs_[0].T, axes.ravel()):\n",
    "    ax.matshow(coef.reshape(28, 28), cmap=plt.cm.gray, vmin=.5 * vmin, vmax=.5 * vmax)\n",
    "    ax.set_xticks(())\n",
    "    ax.set_yticks(())\n",
    "\n",
    "plt.show()"
   ]
  },
  {
   "cell_type": "code",
   "execution_count": 147,
   "metadata": {},
   "outputs": [
    {
     "data": {
      "text/html": [
       "<div>\n",
       "<style scoped>\n",
       "    .dataframe tbody tr th:only-of-type {\n",
       "        vertical-align: middle;\n",
       "    }\n",
       "\n",
       "    .dataframe tbody tr th {\n",
       "        vertical-align: top;\n",
       "    }\n",
       "\n",
       "    .dataframe thead th {\n",
       "        text-align: right;\n",
       "    }\n",
       "</style>\n",
       "<table border=\"1\" class=\"dataframe\">\n",
       "  <thead>\n",
       "    <tr style=\"text-align: right;\">\n",
       "      <th></th>\n",
       "      <th>pixel1</th>\n",
       "      <th>pixel2</th>\n",
       "      <th>pixel3</th>\n",
       "      <th>pixel4</th>\n",
       "      <th>pixel5</th>\n",
       "      <th>pixel6</th>\n",
       "      <th>pixel7</th>\n",
       "      <th>pixel8</th>\n",
       "      <th>pixel9</th>\n",
       "      <th>pixel10</th>\n",
       "      <th>...</th>\n",
       "      <th>pixel776</th>\n",
       "      <th>pixel777</th>\n",
       "      <th>pixel778</th>\n",
       "      <th>pixel779</th>\n",
       "      <th>pixel780</th>\n",
       "      <th>pixel781</th>\n",
       "      <th>pixel782</th>\n",
       "      <th>pixel783</th>\n",
       "      <th>pixel784</th>\n",
       "      <th>class</th>\n",
       "    </tr>\n",
       "  </thead>\n",
       "  <tbody>\n",
       "    <tr>\n",
       "      <th>0</th>\n",
       "      <td>0</td>\n",
       "      <td>0</td>\n",
       "      <td>0</td>\n",
       "      <td>0</td>\n",
       "      <td>0</td>\n",
       "      <td>0</td>\n",
       "      <td>0</td>\n",
       "      <td>0</td>\n",
       "      <td>0</td>\n",
       "      <td>0</td>\n",
       "      <td>...</td>\n",
       "      <td>0</td>\n",
       "      <td>0</td>\n",
       "      <td>0</td>\n",
       "      <td>0</td>\n",
       "      <td>0</td>\n",
       "      <td>0</td>\n",
       "      <td>0</td>\n",
       "      <td>0</td>\n",
       "      <td>0</td>\n",
       "      <td>5</td>\n",
       "    </tr>\n",
       "    <tr>\n",
       "      <th>1</th>\n",
       "      <td>0</td>\n",
       "      <td>0</td>\n",
       "      <td>0</td>\n",
       "      <td>0</td>\n",
       "      <td>0</td>\n",
       "      <td>0</td>\n",
       "      <td>0</td>\n",
       "      <td>0</td>\n",
       "      <td>0</td>\n",
       "      <td>0</td>\n",
       "      <td>...</td>\n",
       "      <td>0</td>\n",
       "      <td>0</td>\n",
       "      <td>0</td>\n",
       "      <td>0</td>\n",
       "      <td>0</td>\n",
       "      <td>0</td>\n",
       "      <td>0</td>\n",
       "      <td>0</td>\n",
       "      <td>0</td>\n",
       "      <td>0</td>\n",
       "    </tr>\n",
       "    <tr>\n",
       "      <th>2</th>\n",
       "      <td>0</td>\n",
       "      <td>0</td>\n",
       "      <td>0</td>\n",
       "      <td>0</td>\n",
       "      <td>0</td>\n",
       "      <td>0</td>\n",
       "      <td>0</td>\n",
       "      <td>0</td>\n",
       "      <td>0</td>\n",
       "      <td>0</td>\n",
       "      <td>...</td>\n",
       "      <td>0</td>\n",
       "      <td>0</td>\n",
       "      <td>0</td>\n",
       "      <td>0</td>\n",
       "      <td>0</td>\n",
       "      <td>0</td>\n",
       "      <td>0</td>\n",
       "      <td>0</td>\n",
       "      <td>0</td>\n",
       "      <td>4</td>\n",
       "    </tr>\n",
       "    <tr>\n",
       "      <th>3</th>\n",
       "      <td>0</td>\n",
       "      <td>0</td>\n",
       "      <td>0</td>\n",
       "      <td>0</td>\n",
       "      <td>0</td>\n",
       "      <td>0</td>\n",
       "      <td>0</td>\n",
       "      <td>0</td>\n",
       "      <td>0</td>\n",
       "      <td>0</td>\n",
       "      <td>...</td>\n",
       "      <td>0</td>\n",
       "      <td>0</td>\n",
       "      <td>0</td>\n",
       "      <td>0</td>\n",
       "      <td>0</td>\n",
       "      <td>0</td>\n",
       "      <td>0</td>\n",
       "      <td>0</td>\n",
       "      <td>0</td>\n",
       "      <td>1</td>\n",
       "    </tr>\n",
       "    <tr>\n",
       "      <th>4</th>\n",
       "      <td>0</td>\n",
       "      <td>0</td>\n",
       "      <td>0</td>\n",
       "      <td>0</td>\n",
       "      <td>0</td>\n",
       "      <td>0</td>\n",
       "      <td>0</td>\n",
       "      <td>0</td>\n",
       "      <td>0</td>\n",
       "      <td>0</td>\n",
       "      <td>...</td>\n",
       "      <td>0</td>\n",
       "      <td>0</td>\n",
       "      <td>0</td>\n",
       "      <td>0</td>\n",
       "      <td>0</td>\n",
       "      <td>0</td>\n",
       "      <td>0</td>\n",
       "      <td>0</td>\n",
       "      <td>0</td>\n",
       "      <td>9</td>\n",
       "    </tr>\n",
       "    <tr>\n",
       "      <th>...</th>\n",
       "      <td>...</td>\n",
       "      <td>...</td>\n",
       "      <td>...</td>\n",
       "      <td>...</td>\n",
       "      <td>...</td>\n",
       "      <td>...</td>\n",
       "      <td>...</td>\n",
       "      <td>...</td>\n",
       "      <td>...</td>\n",
       "      <td>...</td>\n",
       "      <td>...</td>\n",
       "      <td>...</td>\n",
       "      <td>...</td>\n",
       "      <td>...</td>\n",
       "      <td>...</td>\n",
       "      <td>...</td>\n",
       "      <td>...</td>\n",
       "      <td>...</td>\n",
       "      <td>...</td>\n",
       "      <td>...</td>\n",
       "      <td>...</td>\n",
       "    </tr>\n",
       "    <tr>\n",
       "      <th>69995</th>\n",
       "      <td>0</td>\n",
       "      <td>0</td>\n",
       "      <td>0</td>\n",
       "      <td>0</td>\n",
       "      <td>0</td>\n",
       "      <td>0</td>\n",
       "      <td>0</td>\n",
       "      <td>0</td>\n",
       "      <td>0</td>\n",
       "      <td>0</td>\n",
       "      <td>...</td>\n",
       "      <td>0</td>\n",
       "      <td>0</td>\n",
       "      <td>0</td>\n",
       "      <td>0</td>\n",
       "      <td>0</td>\n",
       "      <td>0</td>\n",
       "      <td>0</td>\n",
       "      <td>0</td>\n",
       "      <td>0</td>\n",
       "      <td>2</td>\n",
       "    </tr>\n",
       "    <tr>\n",
       "      <th>69996</th>\n",
       "      <td>0</td>\n",
       "      <td>0</td>\n",
       "      <td>0</td>\n",
       "      <td>0</td>\n",
       "      <td>0</td>\n",
       "      <td>0</td>\n",
       "      <td>0</td>\n",
       "      <td>0</td>\n",
       "      <td>0</td>\n",
       "      <td>0</td>\n",
       "      <td>...</td>\n",
       "      <td>0</td>\n",
       "      <td>0</td>\n",
       "      <td>0</td>\n",
       "      <td>0</td>\n",
       "      <td>0</td>\n",
       "      <td>0</td>\n",
       "      <td>0</td>\n",
       "      <td>0</td>\n",
       "      <td>0</td>\n",
       "      <td>3</td>\n",
       "    </tr>\n",
       "    <tr>\n",
       "      <th>69997</th>\n",
       "      <td>0</td>\n",
       "      <td>0</td>\n",
       "      <td>0</td>\n",
       "      <td>0</td>\n",
       "      <td>0</td>\n",
       "      <td>0</td>\n",
       "      <td>0</td>\n",
       "      <td>0</td>\n",
       "      <td>0</td>\n",
       "      <td>0</td>\n",
       "      <td>...</td>\n",
       "      <td>0</td>\n",
       "      <td>0</td>\n",
       "      <td>0</td>\n",
       "      <td>0</td>\n",
       "      <td>0</td>\n",
       "      <td>0</td>\n",
       "      <td>0</td>\n",
       "      <td>0</td>\n",
       "      <td>0</td>\n",
       "      <td>4</td>\n",
       "    </tr>\n",
       "    <tr>\n",
       "      <th>69998</th>\n",
       "      <td>0</td>\n",
       "      <td>0</td>\n",
       "      <td>0</td>\n",
       "      <td>0</td>\n",
       "      <td>0</td>\n",
       "      <td>0</td>\n",
       "      <td>0</td>\n",
       "      <td>0</td>\n",
       "      <td>0</td>\n",
       "      <td>0</td>\n",
       "      <td>...</td>\n",
       "      <td>0</td>\n",
       "      <td>0</td>\n",
       "      <td>0</td>\n",
       "      <td>0</td>\n",
       "      <td>0</td>\n",
       "      <td>0</td>\n",
       "      <td>0</td>\n",
       "      <td>0</td>\n",
       "      <td>0</td>\n",
       "      <td>5</td>\n",
       "    </tr>\n",
       "    <tr>\n",
       "      <th>69999</th>\n",
       "      <td>0</td>\n",
       "      <td>0</td>\n",
       "      <td>0</td>\n",
       "      <td>0</td>\n",
       "      <td>0</td>\n",
       "      <td>0</td>\n",
       "      <td>0</td>\n",
       "      <td>0</td>\n",
       "      <td>0</td>\n",
       "      <td>0</td>\n",
       "      <td>...</td>\n",
       "      <td>0</td>\n",
       "      <td>0</td>\n",
       "      <td>0</td>\n",
       "      <td>0</td>\n",
       "      <td>0</td>\n",
       "      <td>0</td>\n",
       "      <td>0</td>\n",
       "      <td>0</td>\n",
       "      <td>0</td>\n",
       "      <td>6</td>\n",
       "    </tr>\n",
       "  </tbody>\n",
       "</table>\n",
       "<p>70000 rows × 785 columns</p>\n",
       "</div>"
      ],
      "text/plain": [
       "       pixel1  pixel2  pixel3  pixel4  pixel5  pixel6  pixel7  pixel8  pixel9  \\\n",
       "0           0       0       0       0       0       0       0       0       0   \n",
       "1           0       0       0       0       0       0       0       0       0   \n",
       "2           0       0       0       0       0       0       0       0       0   \n",
       "3           0       0       0       0       0       0       0       0       0   \n",
       "4           0       0       0       0       0       0       0       0       0   \n",
       "...       ...     ...     ...     ...     ...     ...     ...     ...     ...   \n",
       "69995       0       0       0       0       0       0       0       0       0   \n",
       "69996       0       0       0       0       0       0       0       0       0   \n",
       "69997       0       0       0       0       0       0       0       0       0   \n",
       "69998       0       0       0       0       0       0       0       0       0   \n",
       "69999       0       0       0       0       0       0       0       0       0   \n",
       "\n",
       "       pixel10  ...  pixel776  pixel777  pixel778  pixel779  pixel780  \\\n",
       "0            0  ...         0         0         0         0         0   \n",
       "1            0  ...         0         0         0         0         0   \n",
       "2            0  ...         0         0         0         0         0   \n",
       "3            0  ...         0         0         0         0         0   \n",
       "4            0  ...         0         0         0         0         0   \n",
       "...        ...  ...       ...       ...       ...       ...       ...   \n",
       "69995        0  ...         0         0         0         0         0   \n",
       "69996        0  ...         0         0         0         0         0   \n",
       "69997        0  ...         0         0         0         0         0   \n",
       "69998        0  ...         0         0         0         0         0   \n",
       "69999        0  ...         0         0         0         0         0   \n",
       "\n",
       "       pixel781  pixel782  pixel783  pixel784  class  \n",
       "0             0         0         0         0      5  \n",
       "1             0         0         0         0      0  \n",
       "2             0         0         0         0      4  \n",
       "3             0         0         0         0      1  \n",
       "4             0         0         0         0      9  \n",
       "...         ...       ...       ...       ...    ...  \n",
       "69995         0         0         0         0      2  \n",
       "69996         0         0         0         0      3  \n",
       "69997         0         0         0         0      4  \n",
       "69998         0         0         0         0      5  \n",
       "69999         0         0         0         0      6  \n",
       "\n",
       "[70000 rows x 785 columns]"
      ]
     },
     "execution_count": 147,
     "metadata": {},
     "output_type": "execute_result"
    }
   ],
   "source": [
    "df"
   ]
  },
  {
   "cell_type": "code",
   "execution_count": 158,
   "metadata": {},
   "outputs": [
    {
     "data": {
      "text/plain": [
       "array([[  0,   0,   0,   0,   0,   0,   0,   0,   0,   0,   0,   0,   0,\n",
       "          0,   0,   0,   0,   0,   0,   0,   0,   0,   0,   0,   0,   0,\n",
       "          0,   0,   0,   0,   0,   0,   0,   0,   0,   0,   0,   0,   0,\n",
       "          0,   0,   0,   0,   0,   0,   0,   0,   0,   0,   0,   0,   0,\n",
       "          0,   0,   0,   0,   0,   0,   0,   0,   0,   0,   0,   0,   0,\n",
       "          0,   0,   0,   0,   0,   0,   0,   0,   0,   0,   0,   0,   0,\n",
       "          0,   0,   0,   0,   0,   0,   0,   0,   0,   0,   0,   0,   0,\n",
       "          0,   0,   0,   0,   0,   0,   0,   0,   0,   0,   0,   0,   0,\n",
       "          0,   0,   0,   0,   0,   0,   0,   0,   0,   0,   0,   0,   0,\n",
       "          0,   0,   0,   0,   0,   0,   0,   0,   0,   0,   0,   0,   0,\n",
       "          0,   0,   0,   0,   0,   0,   0,   0,   0,   0,   0,   0,   0,\n",
       "          0,   0,   0,   0,   0,   0,   0,   0,   0,   3,  18,  18,  18,\n",
       "        126, 136, 175,  26, 166, 255, 247, 127,   0,   0,   0,   0,   0,\n",
       "          0,   0,   0,   0,   0,   0,   0,  30,  36,  94, 154, 170, 253,\n",
       "        253, 253, 253, 253, 225, 172, 253, 242, 195,  64,   0,   0,   0,\n",
       "          0,   0,   0,   0,   0,   0,   0,   0,  49, 238, 253, 253, 253,\n",
       "        253, 253, 253, 253, 253, 251,  93,  82,  82,  56,  39,   0,   0,\n",
       "          0,   0,   0,   0,   0,   0,   0,   0,   0,   0,  18, 219, 253,\n",
       "        253, 253, 253, 253, 198, 182, 247, 241,   0,   0,   0,   0,   0,\n",
       "          0,   0,   0,   0,   0,   0,   0,   0,   0,   0,   0,   0,   0,\n",
       "         80, 156, 107, 253, 253, 205,  11,   0,  43, 154,   0,   0,   0,\n",
       "          0,   0,   0,   0,   0,   0,   0,   0,   0,   0,   0,   0,   0,\n",
       "          0,   0,   0,  14,   1, 154, 253,  90,   0,   0,   0,   0,   0,\n",
       "          0,   0,   0,   0,   0,   0,   0,   0,   0,   0,   0,   0,   0,\n",
       "          0,   0,   0,   0,   0,   0,   0, 139, 253, 190,   2,   0,   0,\n",
       "          0,   0,   0,   0,   0,   0,   0,   0,   0,   0,   0,   0,   0,\n",
       "          0,   0,   0,   0,   0,   0,   0,   0,   0,  11, 190, 253,  70,\n",
       "          0,   0,   0,   0,   0,   0,   0,   0,   0,   0,   0,   0,   0,\n",
       "          0,   0,   0,   0,   0,   0,   0,   0,   0,   0,   0,   0,  35,\n",
       "        241, 225, 160, 108,   1,   0,   0,   0,   0,   0,   0,   0,   0,\n",
       "          0,   0,   0,   0,   0,   0,   0,   0,   0,   0,   0,   0,   0,\n",
       "          0,   0,  81, 240, 253, 253, 119,  25,   0,   0,   0,   0,   0,\n",
       "          0,   0,   0,   0,   0,   0,   0,   0,   0,   0,   0,   0,   0,\n",
       "          0,   0,   0,   0,   0,  45, 186, 253, 253, 150,  27,   0,   0,\n",
       "          0,   0,   0,   0,   0,   0,   0,   0,   0,   0,   0,   0,   0,\n",
       "          0,   0,   0,   0,   0,   0,   0,   0,  16,  93, 252, 253, 187,\n",
       "          0,   0,   0,   0,   0,   0,   0,   0,   0,   0,   0,   0,   0,\n",
       "          0,   0,   0,   0,   0,   0,   0,   0,   0,   0,   0,   0, 249,\n",
       "        253, 249,  64,   0,   0,   0,   0,   0,   0,   0,   0,   0,   0,\n",
       "          0,   0,   0,   0,   0,   0,   0,   0,   0,   0,   0,  46, 130,\n",
       "        183, 253, 253, 207,   2,   0,   0,   0,   0,   0,   0,   0,   0,\n",
       "          0,   0,   0,   0,   0,   0,   0,   0,   0,   0,   0,  39, 148,\n",
       "        229, 253, 253, 253, 250, 182,   0,   0,   0,   0,   0,   0,   0,\n",
       "          0,   0,   0,   0,   0,   0,   0,   0,   0,   0,   0,  24, 114,\n",
       "        221, 253, 253, 253, 253, 201,  78,   0,   0,   0,   0,   0,   0,\n",
       "          0,   0,   0,   0,   0,   0,   0,   0,   0,   0,   0,  23,  66,\n",
       "        213, 253, 253, 253, 253, 198,  81,   2,   0,   0,   0,   0,   0,\n",
       "          0,   0,   0,   0,   0,   0,   0,   0,   0,   0,   0,  18, 171,\n",
       "        219, 253, 253, 253, 253, 195,  80,   9,   0,   0,   0,   0,   0,\n",
       "          0,   0,   0,   0,   0,   0,   0,   0,   0,   0,   0,  55, 172,\n",
       "        226, 253, 253, 253, 253, 244, 133,  11,   0,   0,   0,   0,   0,\n",
       "          0,   0,   0,   0,   0,   0,   0,   0,   0,   0,   0,   0,   0,\n",
       "        136, 253, 253, 253, 212, 135, 132,  16,   0,   0,   0,   0,   0,\n",
       "          0,   0,   0,   0,   0,   0,   0,   0,   0,   0,   0,   0,   0,\n",
       "          0,   0,   0,   0,   0,   0,   0,   0,   0,   0,   0,   0,   0,\n",
       "          0,   0,   0,   0,   0,   0,   0,   0,   0,   0,   0,   0,   0,\n",
       "          0,   0,   0,   0,   0,   0,   0,   0,   0,   0,   0,   0,   0,\n",
       "          0,   0,   0,   0,   0,   0,   0,   0,   0,   0,   0,   0,   0,\n",
       "          0,   0,   0,   0,   0,   0,   0,   0,   0,   0,   0,   0,   0,\n",
       "          0,   0,   0,   0,   0,   0,   0,   0,   0,   0,   0,   0,   0,\n",
       "          0,   0,   0,   0,   5]])"
      ]
     },
     "execution_count": 158,
     "metadata": {},
     "output_type": "execute_result"
    }
   ],
   "source": [
    "df.iloc[:1].values"
   ]
  },
  {
   "cell_type": "code",
   "execution_count": 159,
   "metadata": {},
   "outputs": [
    {
     "data": {
      "text/plain": [
       "array([[-0.03666025, -0.03711241,  0.01619663, ...,  0.01108624,\n",
       "         0.02335022, -0.03403167],\n",
       "       [ 0.02231678, -0.01206141, -0.03519766, ...,  0.00852886,\n",
       "        -0.03668315,  0.04081852],\n",
       "       [ 0.03199064,  0.04230361,  0.00700576, ..., -0.0339146 ,\n",
       "        -0.02288235,  0.00348646],\n",
       "       ...,\n",
       "       [-0.03824336, -0.02056674,  0.04197291, ..., -0.02556863,\n",
       "        -0.02737755,  0.03536799],\n",
       "       [-0.03346209, -0.04468418, -0.0266194 , ...,  0.02561727,\n",
       "        -0.01272467, -0.00691086],\n",
       "       [-0.00480966, -0.01927094,  0.03320444, ...,  0.02641174,\n",
       "         0.04416721, -0.01351913]], shape=(784, 100))"
      ]
     },
     "execution_count": 159,
     "metadata": {},
     "output_type": "execute_result"
    }
   ],
   "source": [
    "nn.coefs_[0]"
   ]
  },
  {
   "cell_type": "code",
   "execution_count": null,
   "metadata": {},
   "outputs": [],
   "source": []
  },
  {
   "cell_type": "code",
   "execution_count": 160,
   "metadata": {},
   "outputs": [
    {
     "name": "stdout",
     "output_type": "stream",
     "text": [
      "Training set score: 1.000000\n",
      "Test set score: 0.978095\n"
     ]
    }
   ],
   "source": [
    "# 2 layers, ReLU + Adam:\n",
    "\n",
    "nn_adam = MLPClassifier(\n",
    "    hidden_layer_sizes=(100, 50),  # Two hidden layers: 100 and 50 neurons\n",
    "    activation='relu',             # Try ReLU instead of logistic for better performance\n",
    "    solver='adam',                 # Faster, better optimizer than SGD\n",
    "    max_iter=50,                   # Adam usually converges faster\n",
    "    random_state=1\n",
    ")\n",
    "\n",
    "nn_adam.fit(X_train, Y_train)\n",
    "\n",
    "print(\"Training set score: %f\" % nn_adam.score(X_train, Y_train))\n",
    "print(\"Test set score: %f\" % nn_adam.score(X_test, Y_test))"
   ]
  }
 ],
 "metadata": {
  "kernelspec": {
   "display_name": ".venv",
   "language": "python",
   "name": "python3"
  },
  "language_info": {
   "codemirror_mode": {
    "name": "ipython",
    "version": 3
   },
   "file_extension": ".py",
   "mimetype": "text/x-python",
   "name": "python",
   "nbconvert_exporter": "python",
   "pygments_lexer": "ipython3",
   "version": "3.10.4"
  }
 },
 "nbformat": 4,
 "nbformat_minor": 2
}
