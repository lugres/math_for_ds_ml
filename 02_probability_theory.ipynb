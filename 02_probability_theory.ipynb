{
 "cells": [
  {
   "cell_type": "markdown",
   "metadata": {},
   "source": [
    "Probability - joint and union probabilities, Bayes' theorem, Binomial and Beta distr "
   ]
  },
  {
   "cell_type": "markdown",
   "metadata": {},
   "source": [
    "Binomial distribution"
   ]
  },
  {
   "cell_type": "code",
   "execution_count": null,
   "metadata": {},
   "outputs": [
    {
     "name": "stdout",
     "output_type": "stream",
     "text": [
      "0 - 0.00000000\n",
      "1 - 0.00000001\n",
      "2 - 0.00000036\n",
      "3 - 0.00000875\n",
      "4 - 0.00013778\n",
      "5 - 0.00148803\n",
      "6 - 0.01116026\n",
      "7 - 0.05739563\n",
      "8 - 0.19371024\n",
      "9 - 0.38742049\n",
      "10 - 0.34867844\n"
     ]
    }
   ],
   "source": [
    "# Factorials multiply consecutive descending integers down to 1 # EXAMPLE: 5! = 5 * 4 * 3 * 2 * 1\n",
    "def factorial(n: int):\n",
    "    f=1\n",
    "    for i in range(n):\n",
    "        f*=(i+1) \n",
    "    return f\n",
    "\n",
    "# Generates the coefficient needed for the binomial distribution\n",
    "def binomial_coefficient(n: int, k: int):\n",
    "    return factorial(n) / (factorial(k) * factorial(n - k))\n",
    "\n",
    "# Binomial distribution calculates the probability of k events out of n trials \n",
    "# given the p probability of k occurring\n",
    "def binomial_distribution(k: int, n: int, p: float):\n",
    "    return binomial_coefficient(n, k) * (p ** k) * (1.0 - p) ** (n - k)\n",
    "\n",
    "n=10 # number of trials\n",
    "p=0.9 # success probability for each trial\n",
    "\n",
    "for k in range(n + 1):\n",
    "    probability = binomial_distribution(k, n, p)\n",
    "    print(\"{0} - {1:.8f}\".format(k, probability))\n"
   ]
  },
  {
   "cell_type": "markdown",
   "metadata": {},
   "source": [
    "Beta distribution"
   ]
  },
  {
   "cell_type": "code",
   "execution_count": 1,
   "metadata": {},
   "outputs": [
    {
     "name": "stdout",
     "output_type": "stream",
     "text": [
      "GREATER THAN 90%: 0.22515904881135335, LESS THAN 90%: 0.7748409511886467\n"
     ]
    }
   ],
   "source": [
    "# Beta distribution from scratch for 8/10 successes - just for fun!\n",
    "\n",
    "# Factorials multiply consecutive descending integers down to 1 # EXAMPLE: 5! = 5 * 4 * 3 * 2 * 1\n",
    "def factorial(n: int):\n",
    "    f=1\n",
    "    for i in range(n):\n",
    "        f*=(i+1) \n",
    "    return f\n",
    "\n",
    "def approximate_integral(a, b, n, f): \n",
    "    delta_x=(b-a)/n\n",
    "    total_sum = 0\n",
    "    \n",
    "    for i in range(1, n + 1):\n",
    "        midpoint=0.5*(2*a+delta_x*(2*i-1))\n",
    "        total_sum += f(midpoint)\n",
    "    \n",
    "    return total_sum * delta_x\n",
    "\n",
    "def beta_distribution(x: float, alpha: float, beta: float) -> float:\n",
    "    if x < 0.0 or x > 1.0:\n",
    "        raise ValueError(\"x must be between 0.0 and 1.0\")\n",
    "    \n",
    "    numerator = x ** (alpha - 1.0) * (1.0 - x) ** (beta - 1.0)\n",
    "    denominator = (1.0 * factorial(alpha - 1) * factorial(beta - 1)) / \\\n",
    "                    (1.0 * factorial(alpha + beta - 1))\n",
    "    \n",
    "    return numerator / denominator\n",
    "\n",
    "greater_than_90 = approximate_integral(a=.90, b=1.0, n=1000, f=lambda x: beta_distribution(x, 8, 2))\n",
    "less_than_90 = 1.0 - greater_than_90\n",
    "\n",
    "print(\"GREATER THAN 90%: {}, LESS THAN 90%: {}\".format(greater_than_90,\n",
    "    less_than_90))"
   ]
  }
 ],
 "metadata": {
  "kernelspec": {
   "display_name": ".venv",
   "language": "python",
   "name": "python3"
  },
  "language_info": {
   "codemirror_mode": {
    "name": "ipython",
    "version": 3
   },
   "file_extension": ".py",
   "mimetype": "text/x-python",
   "name": "python",
   "nbconvert_exporter": "python",
   "pygments_lexer": "ipython3",
   "version": "3.10.4"
  }
 },
 "nbformat": 4,
 "nbformat_minor": 2
}
