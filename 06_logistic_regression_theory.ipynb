{
 "cells": [
  {
   "cell_type": "markdown",
   "metadata": {},
   "source": [
    "### Logistic Regression and Classification\n",
    "* Logistic regression is trained on an output variable that is discrete (a binary 1 or 0) or a categorical number (which is a whole number). \n",
    "* It does output a continuous variable (from 0 to 1) in the form of probability, but that can be converted into a discrete value with a threshold.\n",
    "* it's an S-shaped curve (a sigmoid curve)."
   ]
  },
  {
   "cell_type": "code",
   "execution_count": 2,
   "metadata": {},
   "outputs": [
    {
     "name": "stdout",
     "output_type": "stream",
     "text": [
      "1.0/(1.0 + 16.8272567955368*exp(-0.62*x))\n"
     ]
    },
    {
     "data": {
      "image/png": "[encoded data removed]",
      "text/plain": [
       "<Figure size 640x480 with 1 Axes>"
      ]
     },
     "metadata": {},
     "output_type": "display_data"
    },
    {
     "data": {
      "text/plain": [
       "<sympy.plotting.backends.matplotlibbackend.matplotlib.MatplotlibBackend at 0x108a8add0>"
      ]
     },
     "execution_count": 2,
     "metadata": {},
     "output_type": "execute_result"
    }
   ],
   "source": [
    "from sympy import *\n",
    "\n",
    "b0, b1, x = symbols('b0 b1 x')\n",
    "p=1.0/(1.0+exp(-(b0+b1*x)))\n",
    "\n",
    "p = p.subs(b0,-2.823) \n",
    "p = p.subs(b1, 0.620) \n",
    "print(p)\n",
    "\n",
    "plot(p)"
   ]
  },
  {
   "cell_type": "markdown",
   "metadata": {},
   "source": [
    "Fitting the Logistic Curve\n",
    "* use maximum likelihood estimation (MLE), which, as the name suggests, maximizes the likelihood a given logistic curve would output the observed data."
   ]
  },
  {
   "cell_type": "code",
   "execution_count": 46,
   "metadata": {},
   "outputs": [
    {
     "name": "stdout",
     "output_type": "stream",
     "text": [
      "[0.69268939]\n",
      "[-3.17580504]\n"
     ]
    }
   ],
   "source": [
    "import pandas as pd\n",
    "from sklearn.linear_model import LogisticRegression\n",
    "\n",
    "# Load the data\n",
    "df = pd.read_csv('https://bit.ly/33ebs2R', delimiter=\",\")\n",
    "\n",
    "# Extract input variables (all rows, all columns but last column)\n",
    "X = df.values[:, :-1]\n",
    "# Extract output column (all rows, last column)\n",
    "Y = df.values[:, -1]\n",
    "\n",
    "# Perform logistic regression\n",
    "# Turn off penalty\n",
    "model = LogisticRegression(penalty=None)\n",
    "model.fit(X, Y) \n",
    "\n",
    "# print beta1\n",
    "print(model.coef_.flatten()) # 0.69267212 \n",
    "# print beta0\n",
    "print(model.intercept_.flatten()) # -3.17576395"
   ]
  },
  {
   "cell_type": "code",
   "execution_count": 30,
   "metadata": {},
   "outputs": [
    {
     "data": {
      "text/plain": [
       "(array([1.]), array([[0.37861083, 0.62138917]]))"
      ]
     },
     "execution_count": 30,
     "metadata": {},
     "output_type": "execute_result"
    }
   ],
   "source": [
    "# Predict the class (0 or 1), Predict the probability (of class 0 and 1)\n",
    "model.predict([[5.3]]), model.predict_proba([[5.3]])"
   ]
  },
  {
   "cell_type": "markdown",
   "metadata": {},
   "source": [
    "### Using Maximum Likelihood and Gradient Descent\n",
    "* Applying the idea of joint probabilities (multiplying them together)."
   ]
  },
  {
   "cell_type": "code",
   "execution_count": 77,
   "metadata": {},
   "outputs": [
    {
     "name": "stdout",
     "output_type": "stream",
     "text": [
      "x: 1.0,\t y: 0,\t logistic function: 0.077052,        \t 1 - logit: 0.922948\n",
      "x: 1.5,\t y: 0,\t logistic function: 0.105575,        \t 1 - logit: 0.894425\n",
      "x: 2.1,\t y: 0,\t logistic function: 0.151723,        \t 1 - logit: 0.848277\n",
      "x: 2.4,\t y: 0,\t logistic function: 0.180443,        \t 1 - logit: 0.819557\n",
      "x: 2.5,\t y: 1,\t logistic function: 0.190914,        \t 1 - logit: 0.809086\n",
      "x: 3.1,\t y: 0,\t logistic function: 0.263379,        \t 1 - logit: 0.736621\n",
      "x: 4.2,\t y: 0,\t logistic function: 0.433756,        \t 1 - logit: 0.566244\n",
      "x: 4.4,\t y: 1,\t logistic function: 0.468042,        \t 1 - logit: 0.531958\n",
      "x: 4.6,\t y: 1,\t logistic function: 0.502632,        \t 1 - logit: 0.497368\n",
      "x: 4.9,\t y: 0,\t logistic function: 0.554367,        \t 1 - logit: 0.445633\n",
      "x: 5.2,\t y: 1,\t logistic function: 0.604949,        \t 1 - logit: 0.395051\n",
      "x: 5.6,\t y: 0,\t logistic function: 0.668897,        \t 1 - logit: 0.331103\n",
      "x: 6.1,\t y: 1,\t logistic function: 0.740686,        \t 1 - logit: 0.259314\n",
      "x: 6.4,\t y: 1,\t logistic function: 0.778567,        \t 1 - logit: 0.221433\n",
      "x: 6.6,\t y: 1,\t logistic function: 0.801528,        \t 1 - logit: 0.198472\n",
      "x: 7.0,\t y: 0,\t logistic function: 0.841968,        \t 1 - logit: 0.158032\n",
      "x: 7.6,\t y: 1,\t logistic function: 0.889785,        \t 1 - logit: 0.110215\n",
      "x: 7.8,\t y: 1,\t logistic function: 0.902655,        \t 1 - logit: 0.097345\n",
      "x: 8.4,\t y: 1,\t logistic function: 0.933559,        \t 1 - logit: 0.066441\n",
      "x: 8.8,\t y: 1,\t logistic function: 0.948814,        \t 1 - logit: 0.051186\n",
      "x: 9.2,\t y: 1,\t logistic function: 0.960714,        \t 1 - logit: 0.039286\n",
      "Joint likelihood: 0.000048\n"
     ]
    }
   ],
   "source": [
    "# Calculating the joint likelihood of observing all the points for a given logistic regression\n",
    "import math\n",
    "import pandas as pd\n",
    "\n",
    "patient_data = pd.read_csv('https://bit.ly/33ebs2R', delimiter=\",\").itertuples()\n",
    "\n",
    "b0 = -3.17576395\n",
    "b1 = 0.69267212\n",
    "\n",
    "def logistic_function(x):\n",
    "    p = 1.0 / (1.0 + math.exp(-(b0 + b1 * x)))\n",
    "    return p\n",
    "\n",
    "# Calculate the joint likelihood\n",
    "joint_likelihood = 1.0\n",
    "\n",
    "for p in patient_data: \n",
    "    # if p.y == 1.0:\n",
    "    #     joint_likelihood *= logistic_function(p.x) \n",
    "    # elif p.y == 0.0:\n",
    "    #     joint_likelihood *= (1.0 - logistic_function(p.x))\n",
    "    \n",
    "    # a shorter way:\n",
    "    joint_likelihood *= logistic_function(p.x) ** p.y * \\\n",
    "                        (1.0 - logistic_function(p.x)) ** (1.0 - p.y)\n",
    "    \n",
    "    print(f'x: {p.x},\\t y: {p.y},\\t logistic function: {logistic_function(p.x):4f},\\\n",
    "        \\t 1 - logit: {1 - logistic_function(p.x):4f}')\n",
    "\n",
    "print(f'Joint likelihood: {joint_likelihood:5f}')"
   ]
  },
  {
   "cell_type": "code",
   "execution_count": 38,
   "metadata": {},
   "outputs": [
    {
     "name": "stdout",
     "output_type": "stream",
     "text": [
      "1.0\n"
     ]
    }
   ],
   "source": [
    "# use logarithmic addition instead of multiplication to fight floating point underflow\n",
    "joint_likelihood = 0.0\n",
    "\n",
    "for p in patient_data:\n",
    "    joint_likelihood += math.log(logistic_function(p.x) ** p.y * \\\n",
    "                                 (1.0 - logistic_function(p.x)) ** (1.0 - p.y))\n",
    "\n",
    "joint_likelihood = math.exp(joint_likelihood)\n",
    "print(joint_likelihood)"
   ]
  },
  {
   "cell_type": "code",
   "execution_count": 39,
   "metadata": {},
   "outputs": [
    {
     "name": "stdout",
     "output_type": "stream",
     "text": [
      "0.6926693075370818 -3.175751550409824\n"
     ]
    }
   ],
   "source": [
    "# Using gradient descent on logistic regression\n",
    "from sympy import * \n",
    "import pandas as pd\n",
    "\n",
    "points = list(pd.read_csv(\"https://tinyurl.com/y2cocoo7\").itertuples())\n",
    "\n",
    "b1, b0, i, n = symbols('b1 b0 i n')\n",
    "x, y = symbols('x y', cls=Function)\n",
    "joint_likelihood = Sum(log((1.0 / (1.0 + exp(-(b0 + b1 * x(i))))) ** y(i) \\\n",
    "        * (1.0 - (1.0 / (1.0 + exp(-(b0 + b1 * x(i)))))) ** (1 - y(i))), (i, 0, n))\n",
    "\n",
    "# Partial derivative for m, with points substituted\n",
    "d_b1 = diff(joint_likelihood, b1) \\\n",
    "                .subs(n, len(points) - 1).doit() \\\n",
    "                .replace(x, lambda i: points[i].x) \\\n",
    "                .replace(y, lambda i: points[i].y)\n",
    "\n",
    "# Partial derivative for m, with points substituted\n",
    "d_b0 = diff(joint_likelihood, b0) \\\n",
    "                .subs(n, len(points) - 1).doit() \\\n",
    "                .replace(x, lambda i: points[i].x) \\\n",
    "                .replace(y, lambda i: points[i].y)\n",
    "\n",
    "# compile using lambdify for faster computation\n",
    "d_b1 = lambdify([b1, b0], d_b1)\n",
    "d_b0 = lambdify([b1, b0], d_b0)\n",
    "\n",
    "# Perform Gradient Descent\n",
    "b1 = 0.01 \n",
    "b0 = 0.01 \n",
    "L = .01\n",
    "\n",
    "for j in range(10_000):\n",
    "    b1 += d_b1(b1, b0) * L \n",
    "    b0 += d_b0(b1, b0) * L\n",
    "\n",
    "print(b1, b0)"
   ]
  },
  {
   "cell_type": "markdown",
   "metadata": {},
   "source": [
    "### Multivariable Logistic Regression - exploring possibly discriminatory input variables"
   ]
  },
  {
   "cell_type": "code",
   "execution_count": 65,
   "metadata": {},
   "outputs": [
    {
     "name": "stdout",
     "output_type": "stream",
     "text": [
      "COEFFICIENTS: [ 0.03216406  0.03683014 -2.50414078  0.97423186]\n",
      "INTERCEPT: [-2.73503152]\n",
      "Sex: 1, age: 34, promotions: 1, years employed 5\n",
      "WILL LEAVE: [[0.28569689 0.71430311]]\n",
      "Sex: 1, age: 28, promotions: 2, years employed 3\n",
      "WILL STAY: [[0.97718392 0.02281608]]\n",
      "Sex: 1, age: 70, promotions: 8, years employed 22\n",
      "WILL LEAVE: [[0.21836545 0.78163455]]\n",
      "Sex: 1, age: 70, promotions: 8, years employed 21\n",
      "WILL LEAVE: [[0.4253166 0.5746834]]\n"
     ]
    },
    {
     "ename": "ValueError",
     "evalue": "not enough values to unpack (expected 4, got 1)",
     "output_type": "error",
     "traceback": [
      "\u001b[0;31m---------------------------------------------------------------------------\u001b[0m",
      "\u001b[0;31mValueError\u001b[0m                                Traceback (most recent call last)",
      "Cell \u001b[0;32mIn[65], line 36\u001b[0m\n\u001b[1;32m     34\u001b[0m \u001b[38;5;28;01mif\u001b[39;00m n \u001b[38;5;129;01mis\u001b[39;00m (\u001b[38;5;124m'\u001b[39m\u001b[38;5;124mq\u001b[39m\u001b[38;5;124m'\u001b[39m \u001b[38;5;129;01mor\u001b[39;00m \u001b[38;5;124m'\u001b[39m\u001b[38;5;124mQ\u001b[39m\u001b[38;5;124m'\u001b[39m):\n\u001b[1;32m     35\u001b[0m     \u001b[38;5;28;01mbreak\u001b[39;00m\n\u001b[0;32m---> 36\u001b[0m (sex, age, promotions, years_employed) \u001b[38;5;241m=\u001b[39m n\u001b[38;5;241m.\u001b[39msplit(\u001b[38;5;124m\"\u001b[39m\u001b[38;5;124m,\u001b[39m\u001b[38;5;124m\"\u001b[39m) \n\u001b[1;32m     37\u001b[0m \u001b[38;5;28mprint\u001b[39m(\u001b[38;5;124mf\u001b[39m\u001b[38;5;124m'\u001b[39m\u001b[38;5;124mSex: \u001b[39m\u001b[38;5;132;01m{\u001b[39;00msex\u001b[38;5;132;01m}\u001b[39;00m\u001b[38;5;124m, age: \u001b[39m\u001b[38;5;132;01m{\u001b[39;00mage\u001b[38;5;132;01m}\u001b[39;00m\u001b[38;5;124m, promotions: \u001b[39m\u001b[38;5;132;01m{\u001b[39;00mpromotions\u001b[38;5;132;01m}\u001b[39;00m\u001b[38;5;124m, years employed \u001b[39m\u001b[38;5;132;01m{\u001b[39;00myears_employed\u001b[38;5;132;01m}\u001b[39;00m\u001b[38;5;124m'\u001b[39m)\n\u001b[1;32m     38\u001b[0m \u001b[38;5;28mprint\u001b[39m(predict_employee_will_stay(\u001b[38;5;28mint\u001b[39m(sex), \u001b[38;5;28mint\u001b[39m(age), \u001b[38;5;28mint\u001b[39m(promotions),\n\u001b[1;32m     39\u001b[0m       \u001b[38;5;28mint\u001b[39m(years_employed)))\n",
      "\u001b[0;31mValueError\u001b[0m: not enough values to unpack (expected 4, got 1)"
     ]
    }
   ],
   "source": [
    "# Doing a multivariable logistic regression on employee data\n",
    "import pandas as pd\n",
    "from sklearn.linear_model import LogisticRegression\n",
    "\n",
    "employee_data = pd.read_csv(\"https://tinyurl.com/y6r7qjrp\") \n",
    "\n",
    "# grab independent variable columns\n",
    "inputs = employee_data.iloc[:, :-1]\n",
    "# grab dependent \"did_quit\" variable column\n",
    "output = employee_data.iloc[:, -1] \n",
    "\n",
    "# build logistic regression\n",
    "fit = LogisticRegression(penalty=None).fit(inputs, output)\n",
    "\n",
    "# Print coefficients:\n",
    "print(\"COEFFICIENTS: {0}\".format(fit.coef_.flatten())) \n",
    "print(\"INTERCEPT: {0}\".format(fit.intercept_.flatten()))\n",
    "\n",
    "# Interact and test with new employee data\n",
    "def predict_employee_will_stay(sex, age, promotions, years_employed):\n",
    "    pred_df = pd.DataFrame([[sex, age, promotions, years_employed]], \n",
    "                           columns=['SEX', 'AGE', 'PROMOTIONS', 'YEARS_EMPLOYED']) \n",
    "    prediction = fit.predict(pred_df) \n",
    "    probabilities = fit.predict_proba(pred_df) \n",
    "    if prediction == [[1]]:\n",
    "        return \"WILL LEAVE: {0}\".format(probabilities) \n",
    "    else:\n",
    "        return \"WILL STAY: {0}\".format(probabilities)\n",
    "\n",
    "# Test a prediction\n",
    "while True:\n",
    "    n = input(\"Predict employee will stay or leave {sex},\\\n",
    "        {age},{promotions},{years employed}: \")\n",
    "    if n is ('q' or 'Q'):\n",
    "        break\n",
    "    (sex, age, promotions, years_employed) = n.split(\",\") \n",
    "    print(f'Sex: {sex}, age: {age}, promotions: {promotions}, years employed {years_employed}')\n",
    "    print(predict_employee_will_stay(int(sex), int(age), int(promotions),\n",
    "          int(years_employed)))"
   ]
  },
  {
   "cell_type": "code",
   "execution_count": 63,
   "metadata": {},
   "outputs": [
    {
     "data": {
      "text/plain": [
       "'WILL LEAVE: [[0.43025683 0.56974317]]'"
      ]
     },
     "execution_count": 63,
     "metadata": {},
     "output_type": "execute_result"
    }
   ],
   "source": [
    "predict_employee_will_stay(1,43,8,22)"
   ]
  },
  {
   "cell_type": "markdown",
   "metadata": {},
   "source": [
    "This employee retention analysis data has been created with the idea behind that an employee will quit if not promoted every two years.\n",
    "* model will fall apart on data it has not being trained on (e.g. 70 y.o.)\n",
    "* sex and age params are given low weights, meaning the model won't properly assess employees who have been at a company for many years and has never been promoted - the ones who are loyal and happy, not leaving anytime soon."
   ]
  },
  {
   "cell_type": "markdown",
   "metadata": {},
   "source": [
    "### Be careful with data privacy concerns, possible legal and PR issues while making classification on People! \n",
    "* especially if models are discriminatory, and undesirable outcomes are inflicted (not being hired, denied loans)\n",
    "\n",
    "### Analyse data sources carefully, be curious! \n",
    "* where data comes from, what assumptions are built into it - what process created data, what time peiod was used, how we make sure there are no false negatives (empl are about to quit)\n",
    "* what predictions are going to be used for?"
   ]
  },
  {
   "cell_type": "markdown",
   "metadata": {},
   "source": [
    "### Understanding the Log-Odds"
   ]
  },
  {
   "cell_type": "markdown",
   "metadata": {},
   "source": [
    "* β0 + β1x - the log-odds function\n",
    "* it is equal to logit = log (p / (1 − p))\n",
    "* it is easier to compare one set of odds against another. We treat anything greater than 0 as favoring odds an event will happen, whereas anything less than 0 is against an event.\n",
    "* we can compare the effect between one x-value and another, e.g. at 6 and 8. Getting a value of an odds ratio 3.996, meaning that our odds of showing symptoms increases by nearly a factor of four with an extra two hours of exposure"
   ]
  },
  {
   "cell_type": "markdown",
   "metadata": {},
   "source": [
    "### R-Squared\n",
    "* indicates how well a given independent variable explains a dependent variable\n",
    "* we can have McFadden’s Pseudo R2\n",
    " * R2 = log likelihood − log likelihood fit \\ log likelihood"
   ]
  },
  {
   "cell_type": "code",
   "execution_count": 78,
   "metadata": {},
   "outputs": [
    {
     "ename": "TypeError",
     "evalue": "object of type 'map' has no len()",
     "output_type": "error",
     "traceback": [
      "\u001b[0;31m---------------------------------------------------------------------------\u001b[0m",
      "\u001b[0;31mTypeError\u001b[0m                                 Traceback (most recent call last)",
      "Cell \u001b[0;32mIn[78], line 5\u001b[0m\n\u001b[1;32m      1\u001b[0m log_likelihood_fit \u001b[38;5;241m=\u001b[39m \u001b[38;5;28msum\u001b[39m(log(logistic_function(p\u001b[38;5;241m.\u001b[39mx)) \u001b[38;5;241m*\u001b[39m p\u001b[38;5;241m.\u001b[39my \u001b[38;5;241m+\u001b[39m\n\u001b[1;32m      2\u001b[0m                         log(\u001b[38;5;241m1.0\u001b[39m \u001b[38;5;241m-\u001b[39m logistic_function(p\u001b[38;5;241m.\u001b[39mx)) \u001b[38;5;241m*\u001b[39m (\u001b[38;5;241m1.0\u001b[39m \u001b[38;5;241m-\u001b[39m p\u001b[38;5;241m.\u001b[39my)\n\u001b[1;32m      3\u001b[0m                         \u001b[38;5;28;01mfor\u001b[39;00m p \u001b[38;5;129;01min\u001b[39;00m patient_data)\n\u001b[0;32m----> 5\u001b[0m likelihood \u001b[38;5;241m=\u001b[39m \u001b[38;5;28msum\u001b[39m(p\u001b[38;5;241m.\u001b[39my \u001b[38;5;28;01mfor\u001b[39;00m p \u001b[38;5;129;01min\u001b[39;00m patient_data) \u001b[38;5;241m/\u001b[39m \u001b[38;5;28;43mlen\u001b[39;49m\u001b[43m(\u001b[49m\u001b[43mpatient_data\u001b[49m\u001b[43m)\u001b[49m\n\u001b[1;32m      6\u001b[0m log_likelihood \u001b[38;5;241m=\u001b[39m \u001b[38;5;28msum\u001b[39m(log(likelihood)\u001b[38;5;241m*\u001b[39mp\u001b[38;5;241m.\u001b[39my \u001b[38;5;241m+\u001b[39m log(\u001b[38;5;241m1.0\u001b[39m \u001b[38;5;241m-\u001b[39m likelihood)\u001b[38;5;241m*\u001b[39m(\u001b[38;5;241m1.0\u001b[39m \u001b[38;5;241m-\u001b[39m p\u001b[38;5;241m.\u001b[39my) \\\n\u001b[1;32m      7\u001b[0m                     \u001b[38;5;28;01mfor\u001b[39;00m p \u001b[38;5;129;01min\u001b[39;00m patient_data)\n\u001b[1;32m      9\u001b[0m r2 \u001b[38;5;241m=\u001b[39m (log_likelihood \u001b[38;5;241m-\u001b[39m log_likelihood_fit) \u001b[38;5;241m/\u001b[39m log_likelihood\n",
      "\u001b[0;31mTypeError\u001b[0m: object of type 'map' has no len()"
     ]
    }
   ],
   "source": [
    "log_likelihood_fit = sum(log(logistic_function(p.x)) * p.y +\n",
    "                        log(1.0 - logistic_function(p.x)) * (1.0 - p.y)\n",
    "                        for p in patient_data)\n",
    "\n",
    "likelihood = sum(p.y for p in patient_data) / len(patient_data)\n",
    "log_likelihood = sum(log(likelihood)*p.y + log(1.0 - likelihood)*(1.0 - p.y) \\\n",
    "                    for p in patient_data)\n",
    "\n",
    "r2 = (log_likelihood - log_likelihood_fit) / log_likelihood"
   ]
  },
  {
   "cell_type": "code",
   "execution_count": 80,
   "metadata": {},
   "outputs": [
    {
     "name": "stdout",
     "output_type": "stream",
     "text": [
      "0.306456105756576\n"
     ]
    }
   ],
   "source": [
    "# Calculating the R2 for a logistic regression import pandas as pd\n",
    "\n",
    "from math import log, exp\n",
    "patient_data = list(pd.read_csv('https://bit.ly/33ebs2R', delimiter=\",\") \\\n",
    "                                .itertuples())\n",
    "\n",
    "# Declare fitted logistic regression\n",
    "b0 = -3.17576395\n",
    "b1 = 0.69267212\n",
    "\n",
    "def logistic_function(x): \n",
    "    p=1.0/(1.0+exp(-(b0+b1*x))) \n",
    "    return p\n",
    "\n",
    "# calculate the log likelihood of the fit\n",
    "log_likelihood_fit = sum(log(logistic_function(p.x)) * p.y +\n",
    "                         log(1.0 - logistic_function(p.x)) * (1.0 - p.y)\n",
    "                        for p in patient_data) \n",
    "\n",
    "# calculate the log likelihood without fit\n",
    "likelihood = sum(p.y for p in patient_data) / len(patient_data)\n",
    "\n",
    "log_likelihood = sum(log(likelihood) * p.y + log(1.0 - likelihood) * (1.0 - p.y) \\\n",
    "                    for p in patient_data) \n",
    "\n",
    "# calculate R-Square\n",
    "r2 = (log_likelihood - log_likelihood_fit) / log_likelihood \n",
    "\n",
    "print(r2) # 0.306456105756576"
   ]
  },
  {
   "cell_type": "markdown",
   "metadata": {},
   "source": [
    "we can conclude that hours of exposure is mediocre for predicting symptoms, as the R2 is 0.30645 which pretty far from 1. \\\\\n",
    "\n",
    " There must be variables other than time exposure that better predict if someone will show symptoms. This makes sense because we have a large mix of patients showing symptoms versus not showing symptoms for most of our observed data (no clean division b/w True and False cases)"
   ]
  },
  {
   "cell_type": "markdown",
   "metadata": {},
   "source": [
    "### P-value \n",
    "\n",
    "* We'll use chi-square (pronounced kai) distribution, annotated as χ2 distribution.\n",
    "* the degrees of freedom will depend on how many parameters n are in our logistic regression, which will be n − 1.\n",
    "* p‐value = chi (2 ((log likelihood fit) − (log likelihood))"
   ]
  },
  {
   "cell_type": "code",
   "execution_count": 82,
   "metadata": {},
   "outputs": [
    {
     "name": "stdout",
     "output_type": "stream",
     "text": [
      "0.0016604875618753787\n"
     ]
    }
   ],
   "source": [
    "# Calculating a p-value for a given logistic regression\n",
    "    \n",
    "import pandas as pd\n",
    "from math import log, exp \n",
    "from scipy.stats import chi2\n",
    "\n",
    "patient_data = list(pd.read_csv('https://bit.ly/33ebs2R', delimiter=\",\").itertuples())\n",
    "\n",
    "# Declare fitted logistic regression\n",
    "b0 = -3.17576395\n",
    "b1 = 0.69267212\n",
    "\n",
    "def logistic_function(x): \n",
    "    p=1.0/(1.0+exp(-(b0+b1*x))) \n",
    "    return p\n",
    "\n",
    "# calculate the log likelihood of the fit\n",
    "log_likelihood_fit = sum(log(logistic_function(p.x)) * p.y +\n",
    "                         log(1.0 - logistic_function(p.x)) * (1.0 - p.y)\n",
    "                        for p in patient_data) \n",
    "\n",
    "# calculate the log likelihood without fit\n",
    "likelihood = sum(p.y for p in patient_data) / len(patient_data)\n",
    "log_likelihood = sum(log(likelihood) * p.y + log(1.0 - likelihood) * (1.0 - p.y) \\\n",
    "                    for p in patient_data)\n",
    "\n",
    "# calculate p-value\n",
    "chi2_input = 2 * (log_likelihood_fit - log_likelihood)\n",
    "p_value = chi2.pdf(chi2_input, 1) # 1 degree of freedom (n - 1)\n",
    "print(p_value)"
   ]
  },
  {
   "cell_type": "markdown",
   "metadata": {},
   "source": [
    "threshold for signifiance is .05, we say this data is statistically significant and was not by random chance."
   ]
  },
  {
   "cell_type": "markdown",
   "metadata": {},
   "source": [
    "### Train/Test Splits\n",
    "\n",
    "* we can use train/test splits as a way to validate machine learning algorithms. \n",
    "* This is the more machine learning approach to assessing the performance of a logistic regression. It is hard to rely on traditional statistical metrics like R2 and p-values when you are dealing with many variables."
   ]
  },
  {
   "cell_type": "code",
   "execution_count": 84,
   "metadata": {},
   "outputs": [
    {
     "name": "stdout",
     "output_type": "stream",
     "text": [
      "Accuracy Mean: 0.611 (stdev=0.000)\n"
     ]
    }
   ],
   "source": [
    "# Performing a logistic regression with three-fold cross-validation\n",
    "\n",
    "import pandas as pd\n",
    "from sklearn.linear_model import LogisticRegression\n",
    "from sklearn.model_selection import KFold, cross_val_score\n",
    "\n",
    "# Load the data\n",
    "df = pd.read_csv(\"https://tinyurl.com/y6r7qjrp\", delimiter=\",\")\n",
    "\n",
    "X = df.values[:, :-1]\n",
    "Y = df.values[:, -1]\n",
    "\n",
    "# \"random_state\" is the random seed, which we fix to 7\n",
    "kfold = KFold(n_splits=3, random_state=7, shuffle=True)\n",
    "model = LogisticRegression(penalty=None)\n",
    "results = cross_val_score(model, X, Y, cv=kfold)\n",
    "print(\"Accuracy Mean: %.3f (stdev=%.3f)\" % (results.mean(), results.std()))"
   ]
  },
  {
   "cell_type": "markdown",
   "metadata": {},
   "source": [
    "### Confusion Matrices\n",
    "\n",
    "* accuracy by itself is not a good performance measure for classification model. It could be horrendously misleading, especially for imbalanced data where the event of interest (e.g., a quitting employee) is rare.\n",
    "* Therefore we have to assess confusion matrix - a grid that breaks out the predictions against the actual out‐ comes showing the true positives, true negatives, false positives (type I error), and false negatives (type II error)\n",
    "* we want the diagonal values (top-left to bottom-right) to be higher because these reflect correct classifications (true positives - employees who were predicted to quit actually did quit, true negatives - employees who were predicted to stay actually did stay )\n",
    "* useful metrics can be derived from a confusion matrix, such as precision (how accurate positive predictions were, TP/(TP+FP)) and sensitivity/recall (rate of identified positives, TP/(TP+FN))"
   ]
  },
  {
   "cell_type": "code",
   "execution_count": 86,
   "metadata": {},
   "outputs": [
    {
     "name": "stdout",
     "output_type": "stream",
     "text": [
      "[[6 3]\n",
      " [4 5]]\n"
     ]
    }
   ],
   "source": [
    "# Creating a confusion matrix for a testing dataset\n",
    "    \n",
    "import pandas as pd\n",
    "from sklearn.linear_model import LogisticRegression \n",
    "from sklearn.metrics import confusion_matrix\n",
    "from sklearn.model_selection import train_test_split\n",
    "\n",
    "# Load the data\n",
    "df = pd.read_csv('https://bit.ly/3cManTi', delimiter=\",\")\n",
    "\n",
    "# Extract input variables (all rows, all columns but last column)\n",
    "X = df.values[:, :-1]\n",
    "\n",
    "# Extract output column (all rows, last column)\\\n",
    "Y = df.values[:, -1]\n",
    "\n",
    "model = LogisticRegression(solver='liblinear')\n",
    "X_train, X_test, Y_train, Y_test = train_test_split(X, Y, test_size=.33,\n",
    "    random_state=10)\n",
    "model.fit(X_train, Y_train)\n",
    "prediction = model.predict(X_test)\n",
    "\n",
    "\"\"\"\"\n",
    "[[truepositives falsenegatives]\n",
    " [falsepositives truenegatives]]\n",
    "\n",
    "The diagonal represents correct predictions,\n",
    "so we want those to be higher\n",
    "\"\"\"\n",
    "\n",
    "matrix = confusion_matrix(y_true=Y_test, y_pred=prediction) \n",
    "print(matrix)"
   ]
  },
  {
   "cell_type": "markdown",
   "metadata": {},
   "source": [
    "### Receiver Operator Characteristics (ROC) / Area Under Curve (AUC) metrics\n",
    "\n",
    "* can summarize all of confusion matrices with a receiver operator characteristic (ROC) curve\n",
    "* True Positive Rate (Sensinivity) - y, False Positive Rate (1 - Specificity) - x.\n",
    "* allows us to see each testing instance (each represented by a black dot) and find an agreeable balance between true positives and false positives.\n",
    "* can be used to compare different ML configurations and models, by comparing two models by their area under the curve (AUC) with their respective ROC curves"
   ]
  },
  {
   "cell_type": "code",
   "execution_count": 87,
   "metadata": {},
   "outputs": [
    {
     "name": "stdout",
     "output_type": "stream",
     "text": [
      "AUC: 0.791 (0.051)\n"
     ]
    }
   ],
   "source": [
    "results = cross_val_score(model, X, Y, cv=kfold, scoring='roc_auc') \n",
    "print(\"AUC: %.3f (%.3f)\" % (results.mean(), results.std()))\n",
    "# AUC: 0.791 (0.051)"
   ]
  },
  {
   "cell_type": "markdown",
   "metadata": {},
   "source": [
    "### Class Imbalance\n",
    "\n",
    "* happens when data is not equally represented across every outcome class\n",
    "* many problems of interest are imbalanced, such as disease prediction, security breaches, fraud detection, and so on. \n",
    "* Class imbalance is still an open problem with no great solution, but there're some techniques to use: \n",
    "* * collect more data or try different models as well as use confusion matrices and ROC/AUC curves.\n",
    "* * duplicate samples in the minority class until it is equally represented in the dataset (stratify option specifying the column)\n",
    "* * generate synthetic samples of the minority class with a family of algorithms called SMOTE.\n",
    "* * tackle the problem in a way that uses anomaly-detection models, which are deliberately designed for seeking out a rare event."
   ]
  }
 ],
 "metadata": {
  "kernelspec": {
   "display_name": ".venv",
   "language": "python",
   "name": "python3"
  },
  "language_info": {
   "codemirror_mode": {
    "name": "ipython",
    "version": 3
   },
   "file_extension": ".py",
   "mimetype": "text/x-python",
   "name": "python",
   "nbconvert_exporter": "python",
   "pygments_lexer": "ipython3",
   "version": "3.10.4"
  }
 },
 "nbformat": 4,
 "nbformat_minor": 2
}
